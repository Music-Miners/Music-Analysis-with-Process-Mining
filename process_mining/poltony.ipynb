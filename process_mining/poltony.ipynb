{
 "cells": [
  {
   "cell_type": "code",
   "execution_count": 1,
   "id": "a956345b-2ab5-4589-aecc-097c06f0001c",
   "metadata": {},
   "outputs": [
    {
     "name": "stdout",
     "output_type": "stream",
     "text": [
      "Requirement already satisfied: pandas in /Users/marcin-macbook/development/music_12321/Music-Analysis-with-Process-Mining/venv/lib/python3.10/site-packages (2.0.1)\n",
      "Requirement already satisfied: tzdata>=2022.1 in /Users/marcin-macbook/development/music_12321/Music-Analysis-with-Process-Mining/venv/lib/python3.10/site-packages (from pandas) (2023.3)\n",
      "Requirement already satisfied: python-dateutil>=2.8.2 in /Users/marcin-macbook/development/music_12321/Music-Analysis-with-Process-Mining/venv/lib/python3.10/site-packages (from pandas) (2.8.2)\n",
      "Requirement already satisfied: pytz>=2020.1 in /Users/marcin-macbook/development/music_12321/Music-Analysis-with-Process-Mining/venv/lib/python3.10/site-packages (from pandas) (2023.3)\n",
      "Requirement already satisfied: numpy>=1.21.0 in /Users/marcin-macbook/development/music_12321/Music-Analysis-with-Process-Mining/venv/lib/python3.10/site-packages (from pandas) (1.24.3)\n",
      "Requirement already satisfied: six>=1.5 in /Users/marcin-macbook/development/music_12321/Music-Analysis-with-Process-Mining/venv/lib/python3.10/site-packages (from python-dateutil>=2.8.2->pandas) (1.16.0)\n",
      "\n",
      "\u001b[1m[\u001b[0m\u001b[34;49mnotice\u001b[0m\u001b[1;39;49m]\u001b[0m\u001b[39;49m A new release of pip available: \u001b[0m\u001b[31;49m22.3.1\u001b[0m\u001b[39;49m -> \u001b[0m\u001b[32;49m23.1.2\u001b[0m\n",
      "\u001b[1m[\u001b[0m\u001b[34;49mnotice\u001b[0m\u001b[1;39;49m]\u001b[0m\u001b[39;49m To update, run: \u001b[0m\u001b[32;49mpip install --upgrade pip\u001b[0m\n",
      "Requirement already satisfied: music21 in /Users/marcin-macbook/development/music_12321/Music-Analysis-with-Process-Mining/venv/lib/python3.10/site-packages (8.3.0)\n",
      "Requirement already satisfied: chardet in /Users/marcin-macbook/development/music_12321/Music-Analysis-with-Process-Mining/venv/lib/python3.10/site-packages (from music21) (5.1.0)\n",
      "Requirement already satisfied: requests in /Users/marcin-macbook/development/music_12321/Music-Analysis-with-Process-Mining/venv/lib/python3.10/site-packages (from music21) (2.30.0)\n",
      "Requirement already satisfied: webcolors>=1.5 in /Users/marcin-macbook/development/music_12321/Music-Analysis-with-Process-Mining/venv/lib/python3.10/site-packages (from music21) (1.13)\n",
      "Requirement already satisfied: matplotlib in /Users/marcin-macbook/development/music_12321/Music-Analysis-with-Process-Mining/venv/lib/python3.10/site-packages (from music21) (3.7.1)\n",
      "Requirement already satisfied: joblib in /Users/marcin-macbook/development/music_12321/Music-Analysis-with-Process-Mining/venv/lib/python3.10/site-packages (from music21) (1.2.0)\n",
      "Requirement already satisfied: more-itertools in /Users/marcin-macbook/development/music_12321/Music-Analysis-with-Process-Mining/venv/lib/python3.10/site-packages (from music21) (9.1.0)\n",
      "Requirement already satisfied: numpy in /Users/marcin-macbook/development/music_12321/Music-Analysis-with-Process-Mining/venv/lib/python3.10/site-packages (from music21) (1.24.3)\n",
      "Requirement already satisfied: jsonpickle in /Users/marcin-macbook/development/music_12321/Music-Analysis-with-Process-Mining/venv/lib/python3.10/site-packages (from music21) (3.0.1)\n",
      "Requirement already satisfied: python-dateutil>=2.7 in /Users/marcin-macbook/development/music_12321/Music-Analysis-with-Process-Mining/venv/lib/python3.10/site-packages (from matplotlib->music21) (2.8.2)\n",
      "Requirement already satisfied: kiwisolver>=1.0.1 in /Users/marcin-macbook/development/music_12321/Music-Analysis-with-Process-Mining/venv/lib/python3.10/site-packages (from matplotlib->music21) (1.4.4)\n",
      "Requirement already satisfied: contourpy>=1.0.1 in /Users/marcin-macbook/development/music_12321/Music-Analysis-with-Process-Mining/venv/lib/python3.10/site-packages (from matplotlib->music21) (1.0.7)\n",
      "Requirement already satisfied: pyparsing>=2.3.1 in /Users/marcin-macbook/development/music_12321/Music-Analysis-with-Process-Mining/venv/lib/python3.10/site-packages (from matplotlib->music21) (3.0.9)\n",
      "Requirement already satisfied: cycler>=0.10 in /Users/marcin-macbook/development/music_12321/Music-Analysis-with-Process-Mining/venv/lib/python3.10/site-packages (from matplotlib->music21) (0.11.0)\n",
      "Requirement already satisfied: packaging>=20.0 in /Users/marcin-macbook/development/music_12321/Music-Analysis-with-Process-Mining/venv/lib/python3.10/site-packages (from matplotlib->music21) (23.1)\n",
      "Requirement already satisfied: fonttools>=4.22.0 in /Users/marcin-macbook/development/music_12321/Music-Analysis-with-Process-Mining/venv/lib/python3.10/site-packages (from matplotlib->music21) (4.39.4)\n",
      "Requirement already satisfied: pillow>=6.2.0 in /Users/marcin-macbook/development/music_12321/Music-Analysis-with-Process-Mining/venv/lib/python3.10/site-packages (from matplotlib->music21) (9.5.0)\n",
      "Requirement already satisfied: idna<4,>=2.5 in /Users/marcin-macbook/development/music_12321/Music-Analysis-with-Process-Mining/venv/lib/python3.10/site-packages (from requests->music21) (3.4)\n",
      "Requirement already satisfied: charset-normalizer<4,>=2 in /Users/marcin-macbook/development/music_12321/Music-Analysis-with-Process-Mining/venv/lib/python3.10/site-packages (from requests->music21) (3.1.0)\n",
      "Requirement already satisfied: urllib3<3,>=1.21.1 in /Users/marcin-macbook/development/music_12321/Music-Analysis-with-Process-Mining/venv/lib/python3.10/site-packages (from requests->music21) (2.0.2)\n",
      "Requirement already satisfied: certifi>=2017.4.17 in /Users/marcin-macbook/development/music_12321/Music-Analysis-with-Process-Mining/venv/lib/python3.10/site-packages (from requests->music21) (2023.5.7)\n",
      "Requirement already satisfied: six>=1.5 in /Users/marcin-macbook/development/music_12321/Music-Analysis-with-Process-Mining/venv/lib/python3.10/site-packages (from python-dateutil>=2.7->matplotlib->music21) (1.16.0)\n",
      "\n",
      "\u001b[1m[\u001b[0m\u001b[34;49mnotice\u001b[0m\u001b[1;39;49m]\u001b[0m\u001b[39;49m A new release of pip available: \u001b[0m\u001b[31;49m22.3.1\u001b[0m\u001b[39;49m -> \u001b[0m\u001b[32;49m23.1.2\u001b[0m\n",
      "\u001b[1m[\u001b[0m\u001b[34;49mnotice\u001b[0m\u001b[1;39;49m]\u001b[0m\u001b[39;49m To update, run: \u001b[0m\u001b[32;49mpip install --upgrade pip\u001b[0m\n"
     ]
    }
   ],
   "source": [
    "!pip install pandas\n",
    "!pip install music21"
   ]
  },
  {
   "cell_type": "code",
   "execution_count": 29,
   "id": "7ea96e1f-6e19-4888-8ebd-71a14e227455",
   "metadata": {},
   "outputs": [],
   "source": [
    "import pickle\n",
    "import pandas as pd\n",
    "import music21\n",
    "from datetime import datetime, timedelta"
   ]
  },
  {
   "cell_type": "code",
   "execution_count": 30,
   "id": "f054d7c9-004f-4e66-8aa2-7ea3d18b4720",
   "metadata": {},
   "outputs": [],
   "source": [
    "piece_id_counter = 1\n",
    "phrase_id_counter = 1"
   ]
  },
  {
   "cell_type": "code",
   "execution_count": 31,
   "id": "ce4ba57b-ba38-42ec-8d19-471157ee8d91",
   "metadata": {},
   "outputs": [],
   "source": [
    "data = []\n",
    "\n",
    "files = [\"data_alsace\"]\n",
    "for file in files:\n",
    "    with open('../data/data/{}.pkl'.format(file), 'rb') as handle:\n",
    "        data.extend(pickle.load(handle))"
   ]
  },
  {
   "cell_type": "code",
   "execution_count": 32,
   "id": "3f95baff-48bc-41b6-9534-8c4fd4d8687f",
   "metadata": {},
   "outputs": [],
   "source": [
    "df = pd.DataFrame(columns=['PhraseID', 'Note', 'TimeStamp', 'PieceID'])\n",
    "piece_id_counter = 1\n",
    "phrase_id_counter = 1\n",
    "previous_note = None\n",
    "\n",
    "for piece in data:\n",
    "    piece_id = \"PIECE{:05}\".format(piece_id_counter)\n",
    "    timestamp = datetime.now()\n",
    "\n",
    "    for i in range(len(piece[0])):\n",
    "        if piece[0][i] == 128:\n",
    "            note = \"rest\"\n",
    "            if previous_note is not None:\n",
    "                distance = piece[0][i-1] - previous_note\n",
    "            else:\n",
    "                distance = 0\n",
    "        else:\n",
    "            current_note = music21.note.Note(piece[0][i]).pitch.midi\n",
    "            if previous_note is not None:\n",
    "                distance = current_note - previous_note\n",
    "            else:\n",
    "                distance = 0\n",
    "            note = distance\n",
    "            previous_note = current_note\n",
    "        \n",
    "        duration = piece[1][i]\n",
    "        phrase_id = \"PHRASE{:06}\".format(phrase_id_counter)\n",
    "        timestamp += timedelta(seconds=10 * int(duration))\n",
    "\n",
    "        new_item = pd.DataFrame(data={'PhraseID': [phrase_id], 'Note': [note], 'TimeStamp': [timestamp.strftime(\"%d/%m/%y %H:%M:%S\")], \"PieceID\": [piece_id]})\n",
    "        df = pd.concat([df, new_item], ignore_index=True)\n",
    "        \n",
    "        if piece[2][i] == 1:\n",
    "            timestamp = datetime.now()\n",
    "            phrase_id_counter += 1\n",
    "            new_item = pd.DataFrame(data={'PhraseID': [phrase_id], 'Note': 'END', 'TimeStamp': [timestamp.strftime(\"%d/%m/%y %H:%M:%S\")], \"PieceID\": [piece_id]})\n",
    "            df = pd.concat([df, new_item], ignore_index=True)\n",
    "        \n",
    "    piece_id_counter += 1\n",
    "    \n",
    "    if piece_id_counter % 1000 == 0:\n",
    "        df.to_csv(\"log_data{}.csv\".format(piece_id_counter))\n",
    "        df = pd.DataFrame(columns=['PhraseID', 'Note', 'TimeStamp', 'PieceID'])\n",
    "   "
   ]
  },
  {
   "cell_type": "code",
   "execution_count": 33,
   "id": "53d33c37-6a53-496a-9131-6bb62a4f955f",
   "metadata": {},
   "outputs": [],
   "source": [
    "df.to_csv(\"log_data.csv\")"
   ]
  },
  {
   "cell_type": "code",
   "execution_count": null,
   "id": "842bf982-395c-4008-ac39-cd9deab32f0e",
   "metadata": {},
   "outputs": [],
   "source": []
  },
  {
   "cell_type": "code",
   "execution_count": null,
   "id": "e6fa04dd-a516-4e75-9be6-c6ef682fdbc9",
   "metadata": {},
   "outputs": [],
   "source": []
  }
 ],
 "metadata": {
  "kernelspec": {
   "display_name": "Python 3 (ipykernel)",
   "language": "python",
   "name": "python3"
  },
  "language_info": {
   "codemirror_mode": {
    "name": "ipython",
    "version": 3
   },
   "file_extension": ".py",
   "mimetype": "text/x-python",
   "name": "python",
   "nbconvert_exporter": "python",
   "pygments_lexer": "ipython3",
   "version": "3.10.9"
  }
 },
 "nbformat": 4,
 "nbformat_minor": 5
}
