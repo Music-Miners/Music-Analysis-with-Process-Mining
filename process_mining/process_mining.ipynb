{
 "cells": [
  {
   "cell_type": "code",
   "execution_count": null,
   "metadata": {},
   "outputs": [],
   "source": [
    "import pickle\n",
    "import pandas as pd\n",
    "import music21\n",
    "from datetime import datetime, timedelta"
   ]
  },
  {
   "cell_type": "code",
   "execution_count": null,
   "metadata": {},
   "outputs": [],
   "source": [
    "piece_id_counter = 1\n",
    "phrase_id_counter = 1"
   ]
  },
  {
   "cell_type": "code",
   "execution_count": null,
   "metadata": {},
   "outputs": [],
   "source": [
    "data = []\n",
    "\n",
    "files = [\"data_kolberg\"]\n",
    "for file in files:\n",
    "    with open('../data/Oskar Kolberg\\'s Dataset/{}.pkl'.format(file), 'rb') as handle:\n",
    "        data.extend(pickle.load(handle))"
   ]
  },
  {
   "cell_type": "code",
   "execution_count": null,
   "metadata": {},
   "outputs": [],
   "source": [
    "df = pd.DataFrame(columns=['PhraseID','Note','TimeStamp','PieceID'])\n",
    "for piece in data:\n",
    "    piece_id = \"PIECE{:05}\".format(piece_id_counter)\n",
    "    timestamp = datetime.now()\n",
    "\n",
    "    for i in range(len(piece[0])):\n",
    "        if piece[0][i] == 128:\n",
    "            note = \"rest\"\n",
    "        else:\n",
    "            note = music21.note.Note(piece[0][i]).nameWithOctave\n",
    "        duration = piece[1][i]\n",
    "        phrase_id = \"PHRASE{:06}\".format(phrase_id_counter)\n",
    "        timestamp += timedelta(seconds = 10 * duration)\n",
    "\n",
    "        new_item = pd.DataFrame(data = {'PhraseID' : [phrase_id], 'Note' : [note], 'TimeStamp' : [timestamp.strftime(\"%d/%m/%y %H:%M:%S\")], \"PieceID\" : [piece_id] })\n",
    "        df = pd.concat([df,new_item],ignore_index=True)\n",
    "        if piece[2][i] == 1:\n",
    "            timestamp = datetime.now()\n",
    "            phrase_id_counter += 1\n",
    "            new_item = pd.DataFrame(data = {'PhraseID' : [phrase_id], 'Note' : 'END', 'TimeStamp' : [timestamp.strftime(\"%d/%m/%y %H:%M:%S\")], \"PieceID\" : [piece_id] })\n",
    "            df = pd.concat([df,new_item],ignore_index=True)\n",
    "        \n",
    "\n",
    "    piece_id_counter += 1\n",
    "    if piece_id_counter%1000 == 0:\n",
    "        df.to_csv(\"log_data{}.csv\".format(piece_id_counter))\n",
    "        df = pd.DataFrame(columns=['PhraseID','Note','TimeStamp','PieceID'])\n",
    "    print(piece_id_counter)"
   ]
  },
  {
   "cell_type": "code",
   "execution_count": null,
   "metadata": {},
   "outputs": [],
   "source": [
    "df.to_csv(\"log_data.csv\")"
   ]
  }
 ],
 "metadata": {
  "kernelspec": {
   "display_name": "tf",
   "language": "python",
   "name": "python3"
  },
  "language_info": {
   "codemirror_mode": {
    "name": "ipython",
    "version": 3
   },
   "file_extension": ".py",
   "mimetype": "text/x-python",
   "name": "python",
   "nbconvert_exporter": "python",
   "pygments_lexer": "ipython3",
   "version": "3.11.3"
  },
  "orig_nbformat": 4
 },
 "nbformat": 4,
 "nbformat_minor": 2
}
