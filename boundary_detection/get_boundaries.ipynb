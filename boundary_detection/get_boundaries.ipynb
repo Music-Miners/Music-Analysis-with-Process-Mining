{
 "cells": [
  {
   "cell_type": "code",
   "execution_count": 91,
   "metadata": {},
   "outputs": [],
   "source": [
    "import pickle\n",
    "import time\n",
    "import os\n",
    "import numpy as np\n",
    "import sys\n",
    "from music21 import instrument, note, stream, chord, duration\n",
    "from RNNmodel import create_network\n",
    "import matplotlib.pyplot as plt"
   ]
  },
  {
   "cell_type": "code",
   "execution_count": 92,
   "metadata": {},
   "outputs": [],
   "source": [
    "with open(\"dictionary.pkl\", \"rb\") as input_file:\n",
    "    dictionary = pickle.load(input_file)\n",
    "\n",
    "\n",
    "durations_to_int = dictionary[\"durations_to_int\"]\n",
    "int_to_duration = dictionary[\"int_to_duration\"]\n",
    "notes_to_int = dictionary[\"notes_to_int\"]\n",
    "int_to_notes = dictionary[\"int_to_notes\"]\n",
    "phrases_to_int = dictionary[\"phrases_to_int\"]\n",
    "int_to_phrases = dictionary[\"int_to_phrases\"]\n",
    "\n",
    "n_notes = len(notes_to_int)\n",
    "n_durations = len(durations_to_int)\n",
    "n_phrases = len(phrases_to_int)"
   ]
  },
  {
   "cell_type": "code",
   "execution_count": 93,
   "metadata": {},
   "outputs": [
    {
     "name": "stdout",
     "output_type": "stream",
     "text": [
      "Model: \"model_10\"\n",
      "__________________________________________________________________________________________________\n",
      " Layer (type)                   Output Shape         Param #     Connected to                     \n",
      "==================================================================================================\n",
      " input_11 (InputLayer)          [(None, None)]       0           []                               \n",
      "                                                                                                  \n",
      " input_12 (InputLayer)          [(None, None)]       0           []                               \n",
      "                                                                                                  \n",
      " embedding_10 (Embedding)       (None, None, 100)    4400        ['input_11[0][0]']               \n",
      "                                                                                                  \n",
      " embedding_11 (Embedding)       (None, None, 100)    1900        ['input_12[0][0]']               \n",
      "                                                                                                  \n",
      " concatenate_5 (Concatenate)    (None, None, 200)    0           ['embedding_10[0][0]',           \n",
      "                                                                  'embedding_11[0][0]']           \n",
      "                                                                                                  \n",
      " lstm_10 (LSTM)                 (None, None, 256)    467968      ['concatenate_5[0][0]']          \n",
      "                                                                                                  \n",
      " lstm_11 (LSTM)                 (None, None, 256)    525312      ['lstm_10[0][0]']                \n",
      "                                                                                                  \n",
      " dense_5 (Dense)                (None, None, 1)      257         ['lstm_11[0][0]']                \n",
      "                                                                                                  \n",
      " reshape_5 (Reshape)            (None, None)         0           ['dense_5[0][0]']                \n",
      "                                                                                                  \n",
      " activation_5 (Activation)      (None, None)         0           ['reshape_5[0][0]']              \n",
      "                                                                                                  \n",
      " repeat_vector_5 (RepeatVector)  (None, 256, None)   0           ['activation_5[0][0]']           \n",
      "                                                                                                  \n",
      " permute_5 (Permute)            (None, None, 256)    0           ['repeat_vector_5[0][0]']        \n",
      "                                                                                                  \n",
      " multiply_5 (Multiply)          (None, None, 256)    0           ['lstm_11[0][0]',                \n",
      "                                                                  'permute_5[0][0]']              \n",
      "                                                                                                  \n",
      " lambda_5 (Lambda)              (None, 256)          0           ['multiply_5[0][0]']             \n",
      "                                                                                                  \n",
      " phrase (Dense)                 (None, 2)            514         ['lambda_5[0][0]']               \n",
      "                                                                                                  \n",
      "==================================================================================================\n",
      "Total params: 1,000,351\n",
      "Trainable params: 1,000,351\n",
      "Non-trainable params: 0\n",
      "__________________________________________________________________________________________________\n"
     ]
    }
   ],
   "source": [
    "weights_folder = 'weights'\n",
    "weights_file = 'weights.h5'\n",
    "embed_size = 100\n",
    "rnn_units = 256\n",
    "use_attention = True\n",
    "\n",
    "model, att_model = create_network(n_notes, n_durations, n_phrases, embed_size, rnn_units, use_attention)\n",
    "\n",
    "# Load the weights to each node\n",
    "weight_source = os.path.join(weights_folder,weights_file)\n",
    "model.load_weights(weight_source)\n",
    "model.summary()"
   ]
  },
  {
   "cell_type": "code",
   "execution_count": 94,
   "metadata": {},
   "outputs": [],
   "source": [
    "pieces_train = None\n",
    "with open('../data/Oskar Kolberg\\'s Dataset/train/pieces_train.pkl', 'rb') as handle:\n",
    "    pieces_train = pickle.load(handle)\n",
    "\n",
    "pieces_test = None\n",
    "with open('../data/Oskar Kolberg\\'s Dataset/train/pieces_test.pkl', 'rb') as handle:\n",
    "    pieces_test = pickle.load(handle)"
   ]
  },
  {
   "cell_type": "code",
   "execution_count": null,
   "metadata": {},
   "outputs": [],
   "source": [
    "def get_boundaries(piece):\n",
    "    notes_input = [ notes_to_int[note] for note in piece[0] ]\n",
    "    durations_input = [ durations_to_int[duration] for duration in piece[1] ]\n",
    "    expected = phrases_input = piece[2]\n",
    "    \n",
    "    max_extra_notes = len(notes_input) - 1\n",
    "    seq_len = 5\n",
    "    phrases_output = []\n",
    "    phrases_output.append(0) # after the first note (that is already in the initial sequence)\n",
    "\n",
    "    notes_input_sequence = [notes_input[0]] # the first note element of the sequence\n",
    "    durations_input_sequence = [durations_input[0]] # the first duration element of the sequence\n",
    "\n",
    "    if seq_len is not None:\n",
    "        notes_input_sequence = [notes_to_int[129]] * (seq_len - len(notes_input_sequence)) + notes_input_sequence # the sequence length must be always equal seq_len, therefore we fill the vector with values 129 (the 'START' token) at the beginning \n",
    "        durations_input_sequence = [0] * (seq_len - len(durations_input_sequence)) + durations_input_sequence # the same for durations\n",
    "\n",
    "    for note_index in range(max_extra_notes):\n",
    "        prediction_input = [\n",
    "            np.array([notes_input_sequence])\n",
    "            , np.array([durations_input_sequence])\n",
    "        ]\n",
    "\n",
    "        phrases_prediction = model.predict(prediction_input, verbose=0)\n",
    "        phrases_output.append(0 if phrases_prediction[0][0] >= phrases_prediction[0][1] else 1)\n",
    "\n",
    "        notes_input_sequence.append(notes_input[note_index])\n",
    "        durations_input_sequence.append(durations_input[note_index])\n",
    "        \n",
    "        if len(notes_input_sequence) > seq_len:\n",
    "            notes_input_sequence = notes_input_sequence[1:]\n",
    "            durations_input_sequence = durations_input_sequence[1:]\n",
    "    actual = phrases_output\n",
    "    \n",
    "    return (actual, expected)"
   ]
  },
  {
   "attachments": {},
   "cell_type": "markdown",
   "metadata": {},
   "source": [
    "### Calculate F1 score"
   ]
  },
  {
   "cell_type": "code",
   "execution_count": 5,
   "metadata": {},
   "outputs": [],
   "source": [
    "def f1_score(expected, actual):\n",
    "    \"\"\"\n",
    "    Calculates the F1 score given two arrays of 0s and 1s (expected and actual).\n",
    "    \"\"\"\n",
    "    # Ensure that the inputs are numpy arrays.\n",
    "    expected = np.array(expected)\n",
    "    actual = np.array(actual)\n",
    "    \n",
    "    # Calculate the true positives, false positives, and false negatives.\n",
    "    tp = np.sum((expected == 1) & (actual == 1))\n",
    "    fp = np.sum((expected == 0) & (actual == 1))\n",
    "    fn = np.sum((expected == 1) & (actual == 0))\n",
    "    \n",
    "    # Calculate the precision, recall, and F1 score.\n",
    "    precision = tp / (tp + fp)\n",
    "    recall = tp / (tp + fn)\n",
    "    f1 = 2 * precision * recall / (precision + recall)\n",
    "    \n",
    "    return f1"
   ]
  },
  {
   "attachments": {},
   "cell_type": "markdown",
   "metadata": {},
   "source": [
    "F1 for the train data"
   ]
  },
  {
   "cell_type": "code",
   "execution_count": null,
   "metadata": {},
   "outputs": [],
   "source": [
    "actual = []\n",
    "expected = []\n",
    "for piece in pieces_train:\n",
    "    a, e = get_boundaries(piece)\n",
    "    actual.extend(a)\n",
    "    expected.extend(e)\n",
    "f1_score(expected,actual)"
   ]
  },
  {
   "attachments": {},
   "cell_type": "markdown",
   "metadata": {},
   "source": [
    "F1 for the test data"
   ]
  },
  {
   "cell_type": "code",
   "execution_count": null,
   "metadata": {},
   "outputs": [],
   "source": [
    "actual = []\n",
    "expected = []\n",
    "for piece in pieces_test:\n",
    "    a, e = get_boundaries(piece)\n",
    "    actual.extend(a)\n",
    "    expected.extend(e)\n",
    "f1_score(expected,actual)"
   ]
  }
 ],
 "metadata": {
  "kernelspec": {
   "display_name": "tf",
   "language": "python",
   "name": "python3"
  },
  "language_info": {
   "codemirror_mode": {
    "name": "ipython",
    "version": 3
   },
   "file_extension": ".py",
   "mimetype": "text/x-python",
   "name": "python",
   "nbconvert_exporter": "python",
   "pygments_lexer": "ipython3",
   "version": "3.11.3"
  },
  "orig_nbformat": 4
 },
 "nbformat": 4,
 "nbformat_minor": 2
}
