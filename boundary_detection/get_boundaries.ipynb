{
 "cells": [
  {
   "cell_type": "code",
   "execution_count": 91,
   "metadata": {},
   "outputs": [],
   "source": [
    "import pickle as pkl\n",
    "import time\n",
    "import os\n",
    "import numpy as np\n",
    "import sys\n",
    "from music21 import instrument, note, stream, chord, duration\n",
    "from RNNmodel import create_network\n",
    "import matplotlib.pyplot as plt"
   ]
  },
  {
   "cell_type": "code",
   "execution_count": 92,
   "metadata": {},
   "outputs": [],
   "source": [
    "with open(\"dictionary.pkl\", \"rb\") as input_file:\n",
    "    dictionary = pkl.load(input_file)\n",
    "\n",
    "\n",
    "durations_to_int = dictionary[\"durations_to_int\"]\n",
    "int_to_duration = dictionary[\"int_to_duration\"]\n",
    "notes_to_int = dictionary[\"notes_to_int\"]\n",
    "int_to_notes = dictionary[\"int_to_notes\"]\n",
    "phrases_to_int = dictionary[\"phrases_to_int\"]\n",
    "int_to_phrases = dictionary[\"int_to_phrases\"]\n",
    "\n",
    "n_notes = len(notes_to_int)\n",
    "n_durations = len(durations_to_int)\n",
    "n_phrases = len(phrases_to_int)"
   ]
  },
  {
   "cell_type": "code",
   "execution_count": 93,
   "metadata": {},
   "outputs": [
    {
     "name": "stdout",
     "output_type": "stream",
     "text": [
      "Model: \"model_10\"\n",
      "__________________________________________________________________________________________________\n",
      " Layer (type)                   Output Shape         Param #     Connected to                     \n",
      "==================================================================================================\n",
      " input_11 (InputLayer)          [(None, None)]       0           []                               \n",
      "                                                                                                  \n",
      " input_12 (InputLayer)          [(None, None)]       0           []                               \n",
      "                                                                                                  \n",
      " embedding_10 (Embedding)       (None, None, 100)    4400        ['input_11[0][0]']               \n",
      "                                                                                                  \n",
      " embedding_11 (Embedding)       (None, None, 100)    1900        ['input_12[0][0]']               \n",
      "                                                                                                  \n",
      " concatenate_5 (Concatenate)    (None, None, 200)    0           ['embedding_10[0][0]',           \n",
      "                                                                  'embedding_11[0][0]']           \n",
      "                                                                                                  \n",
      " lstm_10 (LSTM)                 (None, None, 256)    467968      ['concatenate_5[0][0]']          \n",
      "                                                                                                  \n",
      " lstm_11 (LSTM)                 (None, None, 256)    525312      ['lstm_10[0][0]']                \n",
      "                                                                                                  \n",
      " dense_5 (Dense)                (None, None, 1)      257         ['lstm_11[0][0]']                \n",
      "                                                                                                  \n",
      " reshape_5 (Reshape)            (None, None)         0           ['dense_5[0][0]']                \n",
      "                                                                                                  \n",
      " activation_5 (Activation)      (None, None)         0           ['reshape_5[0][0]']              \n",
      "                                                                                                  \n",
      " repeat_vector_5 (RepeatVector)  (None, 256, None)   0           ['activation_5[0][0]']           \n",
      "                                                                                                  \n",
      " permute_5 (Permute)            (None, None, 256)    0           ['repeat_vector_5[0][0]']        \n",
      "                                                                                                  \n",
      " multiply_5 (Multiply)          (None, None, 256)    0           ['lstm_11[0][0]',                \n",
      "                                                                  'permute_5[0][0]']              \n",
      "                                                                                                  \n",
      " lambda_5 (Lambda)              (None, 256)          0           ['multiply_5[0][0]']             \n",
      "                                                                                                  \n",
      " phrase (Dense)                 (None, 2)            514         ['lambda_5[0][0]']               \n",
      "                                                                                                  \n",
      "==================================================================================================\n",
      "Total params: 1,000,351\n",
      "Trainable params: 1,000,351\n",
      "Non-trainable params: 0\n",
      "__________________________________________________________________________________________________\n"
     ]
    }
   ],
   "source": [
    "weights_folder = 'weights'\n",
    "weights_file = 'weights.h5'\n",
    "embed_size = 100\n",
    "rnn_units = 256\n",
    "use_attention = True\n",
    "\n",
    "model, att_model = create_network(n_notes, n_durations, n_phrases, embed_size, rnn_units, use_attention)\n",
    "\n",
    "# Load the weights to each node\n",
    "weight_source = os.path.join(weights_folder,weights_file)\n",
    "model.load_weights(weight_source)\n",
    "model.summary()"
   ]
  },
  {
   "cell_type": "code",
   "execution_count": 94,
   "metadata": {},
   "outputs": [],
   "source": [
    "import pickle\n",
    "piece = None\n",
    "with open('../data/set_1/test/pieces_test.pkl', 'rb') as handle:\n",
    "    piece = pickle.load(handle)"
   ]
  },
  {
   "cell_type": "code",
   "execution_count": 95,
   "metadata": {},
   "outputs": [
    {
     "data": {
      "text/plain": [
       "869"
      ]
     },
     "execution_count": 95,
     "metadata": {},
     "output_type": "execute_result"
    }
   ],
   "source": [
    "len(piece)"
   ]
  },
  {
   "cell_type": "code",
   "execution_count": 96,
   "metadata": {},
   "outputs": [
    {
     "data": {
      "text/plain": [
       "[0,\n",
       " 0,\n",
       " 0,\n",
       " 0,\n",
       " 0,\n",
       " 0,\n",
       " 0,\n",
       " 0,\n",
       " 0,\n",
       " 0,\n",
       " 1,\n",
       " 0,\n",
       " 0,\n",
       " 0,\n",
       " 0,\n",
       " 0,\n",
       " 0,\n",
       " 0,\n",
       " 1,\n",
       " 0,\n",
       " 0,\n",
       " 0,\n",
       " 0,\n",
       " 0,\n",
       " 0,\n",
       " 0,\n",
       " 0,\n",
       " 0,\n",
       " 1,\n",
       " 0,\n",
       " 0,\n",
       " 0,\n",
       " 0,\n",
       " 0,\n",
       " 0,\n",
       " 0,\n",
       " 1,\n",
       " 0,\n",
       " 0,\n",
       " 0,\n",
       " 0,\n",
       " 0,\n",
       " 0,\n",
       " 0,\n",
       " 0,\n",
       " 1,\n",
       " 0,\n",
       " 0,\n",
       " 0,\n",
       " 0,\n",
       " 0,\n",
       " 0,\n",
       " 1]"
      ]
     },
     "execution_count": 96,
     "metadata": {},
     "output_type": "execute_result"
    }
   ],
   "source": [
    "piece[0][2]"
   ]
  },
  {
   "cell_type": "code",
   "execution_count": 97,
   "metadata": {},
   "outputs": [
    {
     "name": "stdout",
     "output_type": "stream",
     "text": [
      "[16, 21, 21, 25, 23, 21, 23, 23, 23, 26, 25, 23, 18, 18, 21, 20, 18, 25, 42, 28, 28, 26, 30, 30, 26, 26, 26, 25, 28, 25, 25, 25, 23, 25, 26, 28, 42, 28, 28, 28, 30, 30, 26, 26, 25, 28, 25, 25, 23, 26, 25, 21, 42]\n"
     ]
    }
   ],
   "source": [
    "notes_input = [ notes_to_int[note] for note in piece[0][0] ]\n",
    "print(notes_input)"
   ]
  },
  {
   "cell_type": "code",
   "execution_count": 98,
   "metadata": {},
   "outputs": [
    {
     "name": "stdout",
     "output_type": "stream",
     "text": [
      "[7, 10, 7, 7, 7, 7, 9, 4, 7, 7, 7, 7, 10, 7, 7, 7, 7, 13, 7, 7, 10, 7, 7, 7, 7, 7, 7, 7, 10, 7, 7, 7, 7, 10, 7, 13, 7, 7, 10, 7, 7, 7, 7, 10, 7, 10, 7, 10, 7, 10, 7, 13, 7]\n"
     ]
    }
   ],
   "source": [
    "durations_input = [ durations_to_int[duration] for duration in piece[0][1] ]\n",
    "print(durations_input)"
   ]
  },
  {
   "cell_type": "code",
   "execution_count": 99,
   "metadata": {},
   "outputs": [
    {
     "name": "stdout",
     "output_type": "stream",
     "text": [
      "[0, 0, 0, 0, 0, 0, 0, 0, 0, 0, 1, 0, 0, 0, 0, 0, 0, 0, 1, 0, 0, 0, 0, 0, 0, 0, 0, 0, 1, 0, 0, 0, 0, 0, 0, 0, 1, 0, 0, 0, 0, 0, 0, 0, 0, 1, 0, 0, 0, 0, 0, 0, 1]\n"
     ]
    }
   ],
   "source": [
    "phrases_input = piece[0][2]\n",
    "print(phrases_input)"
   ]
  },
  {
   "cell_type": "code",
   "execution_count": 100,
   "metadata": {},
   "outputs": [],
   "source": [
    "max_extra_notes = len(notes_input) - 1\n",
    "seq_len = 5\n",
    "phrases_output = []\n",
    "phrases_output.append(0) # after the first note (that is already in the initial sequence)\n",
    "\n",
    "notes_input_sequence = [notes_input[0]] # the first note element of the sequence\n",
    "durations_input_sequence = [durations_input[0]] # the first duration element of the sequence\n",
    "\n",
    "if seq_len is not None:\n",
    "    notes_input_sequence = [notes_to_int[129]] * (seq_len - len(notes_input_sequence)) + notes_input_sequence # the sequence length must be always equal seq_len, therefore we fill the vector with values 129 (the 'START' token) at the beginning \n",
    "    durations_input_sequence = [0] * (seq_len - len(durations_input_sequence)) + durations_input_sequence # the same for durations"
   ]
  },
  {
   "cell_type": "code",
   "execution_count": 101,
   "metadata": {},
   "outputs": [
    {
     "name": "stdout",
     "output_type": "stream",
     "text": [
      "[43, 43, 43, 43, 16]\n"
     ]
    }
   ],
   "source": [
    "print(notes_input_sequence)"
   ]
  },
  {
   "cell_type": "code",
   "execution_count": 102,
   "metadata": {},
   "outputs": [
    {
     "name": "stdout",
     "output_type": "stream",
     "text": [
      "[0, 0, 0, 0, 7]\n"
     ]
    }
   ],
   "source": [
    "print(durations_input_sequence)"
   ]
  },
  {
   "cell_type": "code",
   "execution_count": 103,
   "metadata": {},
   "outputs": [
    {
     "name": "stdout",
     "output_type": "stream",
     "text": [
      "[43, 43, 43, 43, 16]\n",
      "[0, 0, 0, 0, 7]\n",
      "0.9999994\n",
      "5.594128e-07\n",
      "===\n",
      "[[9.999994e-01 5.594128e-07]]\n",
      "[43, 43, 43, 16, 16]\n",
      "[0, 0, 0, 7, 7]\n",
      "0.99999976\n",
      "2.813152e-07\n",
      "===\n",
      "[[9.9999976e-01 2.8131521e-07]]\n",
      "[43, 43, 16, 16, 21]\n",
      "[0, 0, 7, 7, 10]\n",
      "0.9999993\n",
      "7.705501e-07\n",
      "===\n",
      "[[9.999993e-01 7.705501e-07]]\n",
      "[43, 16, 16, 21, 21]\n",
      "[0, 7, 7, 10, 7]\n",
      "0.99999845\n",
      "1.5019099e-06\n",
      "===\n",
      "[[9.9999845e-01 1.5019099e-06]]\n",
      "[16, 16, 21, 21, 25]\n",
      "[7, 7, 10, 7, 7]\n",
      "0.9999492\n",
      "5.0753497e-05\n",
      "===\n",
      "[[9.9994922e-01 5.0753497e-05]]\n",
      "[16, 21, 21, 25, 23]\n",
      "[7, 10, 7, 7, 7]\n",
      "0.9999609\n",
      "3.913069e-05\n",
      "===\n",
      "[[9.999609e-01 3.913069e-05]]\n",
      "[21, 21, 25, 23, 21]\n",
      "[10, 7, 7, 7, 7]\n",
      "0.9924648\n",
      "0.0075351857\n",
      "===\n",
      "[[0.9924648  0.00753519]]\n",
      "[21, 25, 23, 21, 23]\n",
      "[7, 7, 7, 7, 9]\n",
      "0.9999211\n",
      "7.894501e-05\n",
      "===\n",
      "[[9.999211e-01 7.894501e-05]]\n",
      "[25, 23, 21, 23, 23]\n",
      "[7, 7, 7, 9, 4]\n",
      "0.9204941\n",
      "0.07950596\n",
      "===\n",
      "[[0.9204941  0.07950596]]\n",
      "[23, 21, 23, 23, 23]\n",
      "[7, 7, 9, 4, 7]\n",
      "0.99983144\n",
      "0.00016849699\n",
      "===\n",
      "[[9.9983144e-01 1.6849699e-04]]\n",
      "[21, 23, 23, 23, 26]\n",
      "[7, 9, 4, 7, 7]\n",
      "0.011743897\n",
      "0.98825604\n",
      "===\n",
      "[[0.0117439  0.98825604]]\n",
      "[23, 23, 23, 26, 25]\n",
      "[9, 4, 7, 7, 7]\n",
      "0.9998405\n",
      "0.00015952342\n",
      "===\n",
      "[[9.9984050e-01 1.5952342e-04]]\n",
      "[23, 23, 26, 25, 23]\n",
      "[4, 7, 7, 7, 7]\n",
      "0.9999287\n",
      "7.131965e-05\n",
      "===\n",
      "[[9.999287e-01 7.131965e-05]]\n",
      "[23, 26, 25, 23, 18]\n",
      "[7, 7, 7, 7, 10]\n",
      "0.99229455\n",
      "0.0077054044\n",
      "===\n",
      "[[0.99229455 0.0077054 ]]\n",
      "[26, 25, 23, 18, 18]\n",
      "[7, 7, 7, 10, 7]\n",
      "0.996811\n",
      "0.003189033\n",
      "===\n",
      "[[0.996811   0.00318903]]\n",
      "[25, 23, 18, 18, 21]\n",
      "[7, 7, 10, 7, 7]\n",
      "0.9998105\n",
      "0.00018948548\n",
      "===\n",
      "[[9.9981052e-01 1.8948548e-04]]\n",
      "[23, 18, 18, 21, 20]\n",
      "[7, 10, 7, 7, 7]\n",
      "0.8309509\n",
      "0.16904913\n",
      "===\n",
      "[[0.8309509  0.16904913]]\n",
      "[18, 18, 21, 20, 18]\n",
      "[10, 7, 7, 7, 7]\n",
      "0.999956\n",
      "4.3987257e-05\n",
      "===\n",
      "[[9.9995601e-01 4.3987257e-05]]\n",
      "[18, 21, 20, 18, 25]\n",
      "[7, 7, 7, 7, 13]\n",
      "0.062404428\n",
      "0.9375956\n",
      "===\n",
      "[[0.06240443 0.9375956 ]]\n",
      "[21, 20, 18, 25, 42]\n",
      "[7, 7, 7, 13, 7]\n",
      "0.99997056\n",
      "2.9490142e-05\n",
      "===\n",
      "[[9.9997056e-01 2.9490142e-05]]\n",
      "[20, 18, 25, 42, 28]\n",
      "[7, 7, 13, 7, 7]\n",
      "0.9999962\n",
      "3.8033163e-06\n",
      "===\n",
      "[[9.9999619e-01 3.8033163e-06]]\n",
      "[18, 25, 42, 28, 28]\n",
      "[7, 13, 7, 7, 10]\n",
      "0.999995\n",
      "4.960094e-06\n",
      "===\n",
      "[[9.999950e-01 4.960094e-06]]\n",
      "[25, 42, 28, 28, 26]\n",
      "[13, 7, 7, 10, 7]\n",
      "0.99998605\n",
      "1.3984468e-05\n",
      "===\n",
      "[[9.9998605e-01 1.3984468e-05]]\n",
      "[42, 28, 28, 26, 30]\n",
      "[7, 7, 10, 7, 7]\n",
      "0.9999106\n",
      "8.9410954e-05\n",
      "===\n",
      "[[9.9991059e-01 8.9410954e-05]]\n",
      "[28, 28, 26, 30, 30]\n",
      "[7, 10, 7, 7, 7]\n",
      "0.9999474\n",
      "5.2574556e-05\n",
      "===\n",
      "[[9.9994743e-01 5.2574556e-05]]\n",
      "[28, 26, 30, 30, 26]\n",
      "[10, 7, 7, 7, 7]\n",
      "0.99705255\n",
      "0.0029474895\n",
      "===\n",
      "[[0.99705255 0.00294749]]\n",
      "[26, 30, 30, 26, 26]\n",
      "[7, 7, 7, 7, 7]\n",
      "0.9954882\n",
      "0.004511754\n",
      "===\n",
      "[[0.9954882  0.00451175]]\n",
      "[30, 30, 26, 26, 26]\n",
      "[7, 7, 7, 7, 7]\n",
      "0.9990221\n",
      "0.0009778715\n",
      "===\n",
      "[[9.990221e-01 9.778715e-04]]\n",
      "[30, 26, 26, 26, 25]\n",
      "[7, 7, 7, 7, 7]\n",
      "0.03303506\n",
      "0.9669649\n",
      "===\n",
      "[[0.03303506 0.9669649 ]]\n",
      "[26, 26, 26, 25, 28]\n",
      "[7, 7, 7, 7, 10]\n",
      "0.9831902\n",
      "0.016809808\n",
      "===\n",
      "[[0.9831902  0.01680981]]\n",
      "[26, 26, 25, 28, 25]\n",
      "[7, 7, 7, 10, 7]\n",
      "0.9981963\n",
      "0.0018036909\n",
      "===\n",
      "[[0.9981963  0.00180369]]\n",
      "[26, 25, 28, 25, 25]\n",
      "[7, 7, 10, 7, 7]\n",
      "0.9995757\n",
      "0.00042426676\n",
      "===\n",
      "[[9.9957567e-01 4.2426676e-04]]\n",
      "[25, 28, 25, 25, 25]\n",
      "[7, 10, 7, 7, 7]\n",
      "0.999941\n",
      "5.8946855e-05\n",
      "===\n",
      "[[9.9994099e-01 5.8946855e-05]]\n",
      "[28, 25, 25, 25, 23]\n",
      "[10, 7, 7, 7, 7]\n",
      "0.99912196\n",
      "0.0008780307\n",
      "===\n",
      "[[9.9912196e-01 8.7803073e-04]]\n",
      "[25, 25, 25, 23, 25]\n",
      "[7, 7, 7, 7, 10]\n",
      "0.9941758\n",
      "0.0058242152\n",
      "===\n",
      "[[0.9941758  0.00582422]]\n",
      "[25, 25, 23, 25, 26]\n",
      "[7, 7, 7, 10, 7]\n",
      "0.18256937\n",
      "0.8174306\n",
      "===\n",
      "[[0.18256937 0.8174306 ]]\n",
      "[25, 23, 25, 26, 28]\n",
      "[7, 7, 10, 7, 13]\n",
      "0.94653547\n",
      "0.053464517\n",
      "===\n",
      "[[0.94653547 0.05346452]]\n",
      "[23, 25, 26, 28, 42]\n",
      "[7, 10, 7, 13, 7]\n",
      "0.99994695\n",
      "5.3039865e-05\n",
      "===\n",
      "[[9.9994695e-01 5.3039865e-05]]\n",
      "[25, 26, 28, 42, 28]\n",
      "[10, 7, 13, 7, 7]\n",
      "0.9999933\n",
      "6.715362e-06\n",
      "===\n",
      "[[9.999933e-01 6.715362e-06]]\n",
      "[26, 28, 42, 28, 28]\n",
      "[7, 13, 7, 7, 10]\n",
      "0.9999956\n",
      "4.462004e-06\n",
      "===\n",
      "[[9.999956e-01 4.462004e-06]]\n",
      "[28, 42, 28, 28, 28]\n",
      "[13, 7, 7, 10, 7]\n",
      "0.99998033\n",
      "1.9648309e-05\n",
      "===\n",
      "[[9.9998033e-01 1.9648309e-05]]\n",
      "[42, 28, 28, 28, 30]\n",
      "[7, 7, 10, 7, 7]\n",
      "0.9999696\n",
      "3.0388184e-05\n",
      "===\n",
      "[[9.9996960e-01 3.0388184e-05]]\n",
      "[28, 28, 28, 30, 30]\n",
      "[7, 10, 7, 7, 7]\n",
      "0.99993825\n",
      "6.169388e-05\n",
      "===\n",
      "[[9.9993825e-01 6.1693878e-05]]\n",
      "[28, 28, 30, 30, 26]\n",
      "[10, 7, 7, 7, 7]\n",
      "0.99860066\n",
      "0.001399313\n",
      "===\n",
      "[[0.99860066 0.00139931]]\n",
      "[28, 30, 30, 26, 26]\n",
      "[7, 7, 7, 7, 10]\n",
      "0.98594505\n",
      "0.0140549755\n",
      "===\n",
      "[[0.98594505 0.01405498]]\n",
      "[30, 30, 26, 26, 25]\n",
      "[7, 7, 7, 10, 7]\n",
      "0.007042686\n",
      "0.99295735\n",
      "===\n",
      "[[0.00704269 0.99295735]]\n",
      "[30, 26, 26, 25, 28]\n",
      "[7, 7, 10, 7, 10]\n",
      "0.99982834\n",
      "0.00017163617\n",
      "===\n",
      "[[9.9982834e-01 1.7163617e-04]]\n",
      "[26, 26, 25, 28, 25]\n",
      "[7, 10, 7, 10, 7]\n",
      "0.97427475\n",
      "0.025725257\n",
      "===\n",
      "[[0.97427475 0.02572526]]\n",
      "[26, 25, 28, 25, 25]\n",
      "[10, 7, 10, 7, 10]\n",
      "0.9997702\n",
      "0.00022977295\n",
      "===\n",
      "[[9.9977022e-01 2.2977295e-04]]\n",
      "[25, 28, 25, 25, 23]\n",
      "[7, 10, 7, 10, 7]\n",
      "0.37081218\n",
      "0.6291878\n",
      "===\n",
      "[[0.37081218 0.6291878 ]]\n",
      "[28, 25, 25, 23, 26]\n",
      "[10, 7, 10, 7, 10]\n",
      "0.87829334\n",
      "0.12170669\n",
      "===\n",
      "[[0.87829334 0.12170669]]\n",
      "[25, 25, 23, 26, 25]\n",
      "[7, 10, 7, 10, 7]\n",
      "0.9949557\n",
      "0.0050443015\n",
      "===\n",
      "[[0.9949557 0.0050443]]\n"
     ]
    }
   ],
   "source": [
    "for note_index in range(max_extra_notes):\n",
    "\n",
    "    prediction_input = [\n",
    "        np.array([notes_input_sequence])\n",
    "        , np.array([durations_input_sequence])\n",
    "       ]\n",
    "\n",
    "    phrases_prediction = model.predict(prediction_input, verbose=0)\n",
    "    print(notes_input_sequence)\n",
    "    print(durations_input_sequence)\n",
    "    print(phrases_prediction[0][0])\n",
    "    print(phrases_prediction[0][1])\n",
    "    print(\"===\")\n",
    "    print(phrases_prediction)\n",
    "    \n",
    "    phrases_output.append(0 if phrases_prediction[0][0] >= phrases_prediction[0][1] else 1)\n",
    "\n",
    "    notes_input_sequence.append(notes_input[note_index])\n",
    "    durations_input_sequence.append(durations_input[note_index])\n",
    "    \n",
    "    if len(notes_input_sequence) > seq_len:\n",
    "        notes_input_sequence = notes_input_sequence[1:]\n",
    "        durations_input_sequence = durations_input_sequence[1:]"
   ]
  },
  {
   "cell_type": "code",
   "execution_count": 104,
   "metadata": {},
   "outputs": [
    {
     "name": "stdout",
     "output_type": "stream",
     "text": [
      "[0, 0, 0, 0, 0, 0, 0, 0, 0, 0, 0, 1, 0, 0, 0, 0, 0, 0, 0, 1, 0, 0, 0, 0, 0, 0, 0, 0, 0, 1, 0, 0, 0, 0, 0, 0, 1, 0, 0, 0, 0, 0, 0, 0, 0, 0, 1, 0, 0, 0, 1, 0, 0]\n"
     ]
    }
   ],
   "source": [
    "print(phrases_output) # unfortunately completely wrong..."
   ]
  },
  {
   "cell_type": "code",
   "execution_count": 105,
   "metadata": {},
   "outputs": [
    {
     "name": "stdout",
     "output_type": "stream",
     "text": [
      "[0, 0, 0, 0, 0, 0, 0, 0, 0, 0, 1, 0, 0, 0, 0, 0, 0, 0, 1, 0, 0, 0, 0, 0, 0, 0, 0, 0, 1, 0, 0, 0, 0, 0, 0, 0, 1, 0, 0, 0, 0, 0, 0, 0, 0, 1, 0, 0, 0, 0, 0, 0, 1]\n"
     ]
    }
   ],
   "source": [
    "print(phrases_input) # should be"
   ]
  },
  {
   "attachments": {},
   "cell_type": "markdown",
   "metadata": {},
   "source": [
    "### Calculate accuracy and F1 score"
   ]
  },
  {
   "cell_type": "code",
   "execution_count": 106,
   "metadata": {},
   "outputs": [],
   "source": [
    "def accuracy(expected, actual):\n",
    "    \"\"\"\n",
    "    Calculates the accuracy given two arrays of 0s and 1s (expected and actual).\n",
    "    \"\"\"\n",
    "    # Ensure that the inputs are numpy arrays.\n",
    "    expected = np.array(expected)\n",
    "    actual = np.array(actual)\n",
    "    \n",
    "    # Calculate the number of correct predictions.\n",
    "    num_correct = np.sum(expected == actual)\n",
    "    \n",
    "    # Calculate the total number of predictions.\n",
    "    num_total = len(expected)\n",
    "    \n",
    "    # Calculate the accuracy.\n",
    "    acc = num_correct / num_total\n",
    "    \n",
    "    return acc\n",
    "\n",
    "\n",
    "def f1_score(expected, actual):\n",
    "    \"\"\"\n",
    "    Calculates the F1 score given two arrays of 0s and 1s (expected and actual).\n",
    "    \"\"\"\n",
    "    # Ensure that the inputs are numpy arrays.\n",
    "    expected = np.array(expected)\n",
    "    actual = np.array(actual)\n",
    "    \n",
    "    # Calculate the true positives, false positives, and false negatives.\n",
    "    tp = np.sum((expected == 1) & (actual == 1))\n",
    "    fp = np.sum((expected == 0) & (actual == 1))\n",
    "    fn = np.sum((expected == 1) & (actual == 0))\n",
    "    \n",
    "    # Calculate the precision, recall, and F1 score.\n",
    "    precision = tp / (tp + fp)\n",
    "    recall = tp / (tp + fn)\n",
    "    f1 = 2 * precision * recall / (precision + recall)\n",
    "    \n",
    "    return f1"
   ]
  },
  {
   "cell_type": "code",
   "execution_count": 107,
   "metadata": {},
   "outputs": [
    {
     "data": {
      "text/plain": [
       "0.8113207547169812"
      ]
     },
     "execution_count": 107,
     "metadata": {},
     "output_type": "execute_result"
    }
   ],
   "source": [
    "accuracy(phrases_output, phrases_input)"
   ]
  },
  {
   "cell_type": "code",
   "execution_count": 108,
   "metadata": {},
   "outputs": [
    {
     "data": {
      "text/plain": [
       "0.16666666666666666"
      ]
     },
     "execution_count": 108,
     "metadata": {},
     "output_type": "execute_result"
    }
   ],
   "source": [
    "f1_score(phrases_output, phrases_input)"
   ]
  }
 ],
 "metadata": {
  "kernelspec": {
   "display_name": "tf",
   "language": "python",
   "name": "python3"
  },
  "language_info": {
   "codemirror_mode": {
    "name": "ipython",
    "version": 3
   },
   "file_extension": ".py",
   "mimetype": "text/x-python",
   "name": "python",
   "nbconvert_exporter": "python",
   "pygments_lexer": "ipython3",
   "version": "3.10.6"
  },
  "orig_nbformat": 4
 },
 "nbformat": 4,
 "nbformat_minor": 2
}
