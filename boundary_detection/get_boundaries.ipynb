{
 "cells": [
  {
   "cell_type": "code",
   "execution_count": 17,
   "metadata": {},
   "outputs": [],
   "source": [
    "import pickle as pkl\n",
    "import time\n",
    "import os\n",
    "import numpy as np\n",
    "import sys\n",
    "from music21 import instrument, note, stream, chord, duration\n",
    "from RNNmodel import create_network\n",
    "import matplotlib.pyplot as plt"
   ]
  },
  {
   "cell_type": "code",
   "execution_count": 18,
   "metadata": {},
   "outputs": [],
   "source": [
    "with open(\"dictionary.pkl\", \"rb\") as input_file:\n",
    "    dictionary = pkl.load(input_file)\n",
    "\n",
    "\n",
    "durations_to_int = dictionary[\"durations_to_int\"]\n",
    "int_to_duration = dictionary[\"int_to_duration\"]\n",
    "notes_to_int = dictionary[\"notes_to_int\"]\n",
    "int_to_notes = dictionary[\"int_to_notes\"]\n",
    "phrases_to_int = dictionary[\"phrases_to_int\"]\n",
    "int_to_phrases = dictionary[\"int_to_phrases\"]\n",
    "\n",
    "n_notes = len(notes_to_int)\n",
    "n_durations = len(durations_to_int)\n",
    "n_phrases = len(phrases_to_int)"
   ]
  },
  {
   "cell_type": "code",
   "execution_count": 19,
   "metadata": {},
   "outputs": [
    {
     "name": "stderr",
     "output_type": "stream",
     "text": [
      "2023-05-08 10:45:06.613508: I tensorflow/core/common_runtime/executor.cc:1197] [/device:CPU:0] (DEBUG INFO) Executor start aborting (this does not indicate an error and you can ignore this message): INVALID_ARGUMENT: You must feed a value for placeholder tensor 'gradients/split_2_grad/concat/split_2/split_dim' with dtype int32\n",
      "\t [[{{node gradients/split_2_grad/concat/split_2/split_dim}}]]\n",
      "2023-05-08 10:45:06.624838: I tensorflow/core/common_runtime/executor.cc:1197] [/device:CPU:0] (DEBUG INFO) Executor start aborting (this does not indicate an error and you can ignore this message): INVALID_ARGUMENT: You must feed a value for placeholder tensor 'gradients/split_grad/concat/split/split_dim' with dtype int32\n",
      "\t [[{{node gradients/split_grad/concat/split/split_dim}}]]\n",
      "2023-05-08 10:45:06.627255: I tensorflow/core/common_runtime/executor.cc:1197] [/device:CPU:0] (DEBUG INFO) Executor start aborting (this does not indicate an error and you can ignore this message): INVALID_ARGUMENT: You must feed a value for placeholder tensor 'gradients/split_1_grad/concat/split_1/split_dim' with dtype int32\n",
      "\t [[{{node gradients/split_1_grad/concat/split_1/split_dim}}]]\n",
      "2023-05-08 10:45:07.049822: I tensorflow/core/common_runtime/executor.cc:1197] [/device:CPU:0] (DEBUG INFO) Executor start aborting (this does not indicate an error and you can ignore this message): INVALID_ARGUMENT: You must feed a value for placeholder tensor 'gradients/split_2_grad/concat/split_2/split_dim' with dtype int32\n",
      "\t [[{{node gradients/split_2_grad/concat/split_2/split_dim}}]]\n",
      "2023-05-08 10:45:07.052188: I tensorflow/core/common_runtime/executor.cc:1197] [/device:CPU:0] (DEBUG INFO) Executor start aborting (this does not indicate an error and you can ignore this message): INVALID_ARGUMENT: You must feed a value for placeholder tensor 'gradients/split_grad/concat/split/split_dim' with dtype int32\n",
      "\t [[{{node gradients/split_grad/concat/split/split_dim}}]]\n",
      "2023-05-08 10:45:07.055588: I tensorflow/core/common_runtime/executor.cc:1197] [/device:CPU:0] (DEBUG INFO) Executor start aborting (this does not indicate an error and you can ignore this message): INVALID_ARGUMENT: You must feed a value for placeholder tensor 'gradients/split_1_grad/concat/split_1/split_dim' with dtype int32\n",
      "\t [[{{node gradients/split_1_grad/concat/split_1/split_dim}}]]\n",
      "/root/miniconda3/envs/tf/lib/python3.11/site-packages/keras/optimizers/legacy/rmsprop.py:143: UserWarning: The `lr` argument is deprecated, use `learning_rate` instead.\n",
      "  super().__init__(name, **kwargs)\n"
     ]
    },
    {
     "name": "stdout",
     "output_type": "stream",
     "text": [
      "Model: \"model_2\"\n",
      "__________________________________________________________________________________________________\n",
      " Layer (type)                   Output Shape         Param #     Connected to                     \n",
      "==================================================================================================\n",
      " input_3 (InputLayer)           [(None, None)]       0           []                               \n",
      "                                                                                                  \n",
      " input_4 (InputLayer)           [(None, None)]       0           []                               \n",
      "                                                                                                  \n",
      " embedding_2 (Embedding)        (None, None, 100)    4800        ['input_3[0][0]']                \n",
      "                                                                                                  \n",
      " embedding_3 (Embedding)        (None, None, 100)    1900        ['input_4[0][0]']                \n",
      "                                                                                                  \n",
      " concatenate_1 (Concatenate)    (None, None, 200)    0           ['embedding_2[0][0]',            \n",
      "                                                                  'embedding_3[0][0]']            \n",
      "                                                                                                  \n",
      " lstm_2 (LSTM)                  (None, None, 256)    467968      ['concatenate_1[0][0]']          \n",
      "                                                                                                  \n",
      " lstm_3 (LSTM)                  (None, None, 256)    525312      ['lstm_2[0][0]']                 \n",
      "                                                                                                  \n",
      " dense_1 (Dense)                (None, None, 1)      257         ['lstm_3[0][0]']                 \n",
      "                                                                                                  \n",
      " reshape_1 (Reshape)            (None, None)         0           ['dense_1[0][0]']                \n",
      "                                                                                                  \n",
      " activation_1 (Activation)      (None, None)         0           ['reshape_1[0][0]']              \n",
      "                                                                                                  \n",
      " repeat_vector_1 (RepeatVector)  (None, 256, None)   0           ['activation_1[0][0]']           \n",
      "                                                                                                  \n",
      " permute_1 (Permute)            (None, None, 256)    0           ['repeat_vector_1[0][0]']        \n",
      "                                                                                                  \n",
      " multiply_1 (Multiply)          (None, None, 256)    0           ['lstm_3[0][0]',                 \n",
      "                                                                  'permute_1[0][0]']              \n",
      "                                                                                                  \n",
      " lambda_1 (Lambda)              (None, 256)          0           ['multiply_1[0][0]']             \n",
      "                                                                                                  \n",
      " phrase (Dense)                 (None, 2)            514         ['lambda_1[0][0]']               \n",
      "                                                                                                  \n",
      "==================================================================================================\n",
      "Total params: 1,000,751\n",
      "Trainable params: 1,000,751\n",
      "Non-trainable params: 0\n",
      "__________________________________________________________________________________________________\n"
     ]
    }
   ],
   "source": [
    "weights_folder = 'weights'\n",
    "weights_file = 'weights.h5'\n",
    "embed_size = 100\n",
    "rnn_units = 256\n",
    "use_attention = True\n",
    "\n",
    "model, att_model = create_network(n_notes, n_durations, n_phrases, embed_size, rnn_units, use_attention)\n",
    "\n",
    "# Load the weights to each node\n",
    "weight_source = os.path.join(weights_folder,weights_file)\n",
    "model.load_weights(weight_source)\n",
    "model.summary()"
   ]
  },
  {
   "cell_type": "code",
   "execution_count": 20,
   "metadata": {},
   "outputs": [],
   "source": [
    "import pickle\n",
    "piece = None\n",
    "with open('../data/data_2/data_germany_1.pkl', 'rb') as handle:\n",
    "    piece = pickle.load(handle)"
   ]
  },
  {
   "cell_type": "code",
   "execution_count": 21,
   "metadata": {},
   "outputs": [
    {
     "name": "stdout",
     "output_type": "stream",
     "text": [
      "[19, 24, 24, 28, 26, 24, 23, 21, 21, 21, 29, 23, 46, 31, 24, 46, 19, 19, 24, 24, 24, 24, 28, 26, 24, 23, 21, 21, 21, 29, 23, 46, 31, 24, 46, 19, 24, 24, 24, 24, 28, 26, 24, 21, 21, 21, 26, 24, 23, 23, 23, 23, 21, 23, 24, 46]\n"
     ]
    }
   ],
   "source": [
    "notes_input = [ notes_to_int[note] for note in piece[0][0] ]\n",
    "print(notes_input)"
   ]
  },
  {
   "cell_type": "code",
   "execution_count": 22,
   "metadata": {},
   "outputs": [
    {
     "name": "stdout",
     "output_type": "stream",
     "text": [
      "[7, 7, 7, 4, 4, 4, 4, 7, 7, 7, 7, 10, 7, 7, 10, 7, 4, 4, 6, 2, 4, 4, 4, 4, 4, 4, 7, 7, 7, 7, 10, 7, 7, 10, 7, 7, 10, 7, 7, 10, 10, 10, 10, 12, 7, 10, 13, 10, 12, 7, 10, 10, 10, 10, 13, 7]\n"
     ]
    }
   ],
   "source": [
    "durations_input = [ durations_to_int[duration] for duration in piece[0][1] ]\n",
    "print(durations_input)"
   ]
  },
  {
   "cell_type": "code",
   "execution_count": 23,
   "metadata": {},
   "outputs": [
    {
     "name": "stdout",
     "output_type": "stream",
     "text": [
      "[0, 0, 0, 0, 0, 0, 0, 0, 0, 0, 0, 0, 0, 0, 0, 1, 0, 0, 0, 0, 0, 0, 0, 0, 0, 0, 0, 0, 0, 0, 0, 0, 0, 0, 1, 0, 0, 0, 0, 0, 0, 0, 0, 0, 0, 0, 1, 0, 0, 0, 0, 0, 0, 0, 0, 1]\n"
     ]
    }
   ],
   "source": [
    "phrases_input = piece[0][2]\n",
    "print(phrases_input)"
   ]
  },
  {
   "cell_type": "code",
   "execution_count": 24,
   "metadata": {},
   "outputs": [],
   "source": [
    "max_extra_notes = len(notes_input) - 1\n",
    "seq_len = 8\n",
    "phrases_output = []\n",
    "phrases_output.append(0) # after the first note (that is already in the initial sequence)\n",
    "\n",
    "notes_input_sequence = [notes_input[0]] # the first note element of the sequence\n",
    "durations_input_sequence = [durations_input[0]] # the first duration element of the sequence\n",
    "\n",
    "if seq_len is not None:\n",
    "    notes_input_sequence = [notes_to_int[129]] * (seq_len - len(notes_input_sequence)) + notes_input_sequence # the sequence length must be always equal seq_len, therefore we fill the vector with values 129 (the 'START' token) at the beginning \n",
    "    durations_input_sequence = [0] * (seq_len - len(durations_input_sequence)) + durations_input_sequence # the same for durations"
   ]
  },
  {
   "cell_type": "code",
   "execution_count": 25,
   "metadata": {},
   "outputs": [
    {
     "name": "stdout",
     "output_type": "stream",
     "text": [
      "[47, 47, 47, 47, 47, 47, 47, 19]\n"
     ]
    }
   ],
   "source": [
    "print(notes_input_sequence)"
   ]
  },
  {
   "cell_type": "code",
   "execution_count": 26,
   "metadata": {},
   "outputs": [
    {
     "name": "stdout",
     "output_type": "stream",
     "text": [
      "[0, 0, 0, 0, 0, 0, 0, 7]\n"
     ]
    }
   ],
   "source": [
    "print(durations_input_sequence)"
   ]
  },
  {
   "cell_type": "code",
   "execution_count": 27,
   "metadata": {},
   "outputs": [
    {
     "name": "stderr",
     "output_type": "stream",
     "text": [
      "2023-05-08 10:45:09.186151: I tensorflow/core/common_runtime/executor.cc:1197] [/device:CPU:0] (DEBUG INFO) Executor start aborting (this does not indicate an error and you can ignore this message): INVALID_ARGUMENT: You must feed a value for placeholder tensor 'gradients/split_2_grad/concat/split_2/split_dim' with dtype int32\n",
      "\t [[{{node gradients/split_2_grad/concat/split_2/split_dim}}]]\n",
      "2023-05-08 10:45:09.187424: I tensorflow/core/common_runtime/executor.cc:1197] [/device:CPU:0] (DEBUG INFO) Executor start aborting (this does not indicate an error and you can ignore this message): INVALID_ARGUMENT: You must feed a value for placeholder tensor 'gradients/split_grad/concat/split/split_dim' with dtype int32\n",
      "\t [[{{node gradients/split_grad/concat/split/split_dim}}]]\n",
      "2023-05-08 10:45:09.190148: I tensorflow/core/common_runtime/executor.cc:1197] [/device:CPU:0] (DEBUG INFO) Executor start aborting (this does not indicate an error and you can ignore this message): INVALID_ARGUMENT: You must feed a value for placeholder tensor 'gradients/split_1_grad/concat/split_1/split_dim' with dtype int32\n",
      "\t [[{{node gradients/split_1_grad/concat/split_1/split_dim}}]]\n",
      "2023-05-08 10:45:09.431329: I tensorflow/core/common_runtime/executor.cc:1197] [/device:CPU:0] (DEBUG INFO) Executor start aborting (this does not indicate an error and you can ignore this message): INVALID_ARGUMENT: You must feed a value for placeholder tensor 'gradients/split_2_grad/concat/split_2/split_dim' with dtype int32\n",
      "\t [[{{node gradients/split_2_grad/concat/split_2/split_dim}}]]\n",
      "2023-05-08 10:45:09.434558: I tensorflow/core/common_runtime/executor.cc:1197] [/device:CPU:0] (DEBUG INFO) Executor start aborting (this does not indicate an error and you can ignore this message): INVALID_ARGUMENT: You must feed a value for placeholder tensor 'gradients/split_grad/concat/split/split_dim' with dtype int32\n",
      "\t [[{{node gradients/split_grad/concat/split/split_dim}}]]\n",
      "2023-05-08 10:45:09.436089: I tensorflow/core/common_runtime/executor.cc:1197] [/device:CPU:0] (DEBUG INFO) Executor start aborting (this does not indicate an error and you can ignore this message): INVALID_ARGUMENT: You must feed a value for placeholder tensor 'gradients/split_1_grad/concat/split_1/split_dim' with dtype int32\n",
      "\t [[{{node gradients/split_1_grad/concat/split_1/split_dim}}]]\n"
     ]
    },
    {
     "name": "stdout",
     "output_type": "stream",
     "text": [
      "[47, 47, 47, 47, 47, 47, 47, 19]\n",
      "[0, 0, 0, 0, 0, 0, 0, 7]\n",
      "0.99998033\n",
      "1.9714153e-05\n",
      "[47, 47, 47, 47, 47, 47, 19, 19]\n",
      "[0, 0, 0, 0, 0, 0, 7, 7]\n",
      "0.99995923\n",
      "4.077219e-05\n",
      "[47, 47, 47, 47, 47, 19, 19, 24]\n",
      "[0, 0, 0, 0, 0, 7, 7, 7]\n",
      "0.99960655\n",
      "0.00039343038\n",
      "[47, 47, 47, 47, 19, 19, 24, 24]\n",
      "[0, 0, 0, 0, 7, 7, 7, 7]\n",
      "0.9999151\n",
      "8.487423e-05\n",
      "[47, 47, 47, 19, 19, 24, 24, 28]\n",
      "[0, 0, 0, 7, 7, 7, 7, 4]\n",
      "0.99987316\n",
      "0.00012686968\n",
      "[47, 47, 19, 19, 24, 24, 28, 26]\n",
      "[0, 0, 7, 7, 7, 7, 4, 4]\n",
      "0.9997477\n",
      "0.00025233297\n",
      "[47, 19, 19, 24, 24, 28, 26, 24]\n",
      "[0, 7, 7, 7, 7, 4, 4, 4]\n",
      "0.9997863\n",
      "0.00021373609\n",
      "[19, 19, 24, 24, 28, 26, 24, 23]\n",
      "[7, 7, 7, 7, 4, 4, 4, 4]\n",
      "0.99981457\n",
      "0.00018543338\n",
      "[19, 24, 24, 28, 26, 24, 23, 21]\n",
      "[7, 7, 7, 4, 4, 4, 4, 7]\n",
      "0.9999927\n",
      "7.2813586e-06\n",
      "[24, 24, 28, 26, 24, 23, 21, 21]\n",
      "[7, 7, 4, 4, 4, 4, 7, 7]\n",
      "0.9990676\n",
      "0.0009324094\n",
      "[24, 28, 26, 24, 23, 21, 21, 21]\n",
      "[7, 4, 4, 4, 4, 7, 7, 7]\n",
      "0.9999956\n",
      "4.4613234e-06\n",
      "[28, 26, 24, 23, 21, 21, 21, 29]\n",
      "[4, 4, 4, 4, 7, 7, 7, 7]\n",
      "0.9999882\n",
      "1.1829627e-05\n",
      "[26, 24, 23, 21, 21, 21, 29, 23]\n",
      "[4, 4, 4, 7, 7, 7, 7, 10]\n",
      "0.9999833\n",
      "1.6647658e-05\n",
      "[24, 23, 21, 21, 21, 29, 23, 46]\n",
      "[4, 4, 7, 7, 7, 7, 10, 7]\n",
      "0.999985\n",
      "1.50639735e-05\n",
      "[23, 21, 21, 21, 29, 23, 46, 31]\n",
      "[4, 7, 7, 7, 7, 10, 7, 7]\n",
      "0.07152386\n",
      "0.9284761\n",
      "[21, 21, 21, 29, 23, 46, 31, 24]\n",
      "[7, 7, 7, 7, 10, 7, 7, 10]\n",
      "0.999985\n",
      "1.5076779e-05\n",
      "[21, 21, 29, 23, 46, 31, 24, 46]\n",
      "[7, 7, 7, 10, 7, 7, 10, 7]\n",
      "0.99992716\n",
      "7.281454e-05\n",
      "[21, 29, 23, 46, 31, 24, 46, 19]\n",
      "[7, 7, 10, 7, 7, 10, 7, 4]\n",
      "0.99997425\n",
      "2.5750618e-05\n",
      "[29, 23, 46, 31, 24, 46, 19, 19]\n",
      "[7, 10, 7, 7, 10, 7, 4, 4]\n",
      "0.9999312\n",
      "6.8810565e-05\n",
      "[23, 46, 31, 24, 46, 19, 19, 24]\n",
      "[10, 7, 7, 10, 7, 4, 4, 6]\n",
      "0.9999236\n",
      "7.639864e-05\n",
      "[46, 31, 24, 46, 19, 19, 24, 24]\n",
      "[7, 7, 10, 7, 4, 4, 6, 2]\n",
      "0.99990344\n",
      "9.6570104e-05\n",
      "[31, 24, 46, 19, 19, 24, 24, 24]\n",
      "[7, 10, 7, 4, 4, 6, 2, 4]\n",
      "0.99997234\n",
      "2.7681765e-05\n",
      "[24, 46, 19, 19, 24, 24, 24, 24]\n",
      "[10, 7, 4, 4, 6, 2, 4, 4]\n",
      "0.9999833\n",
      "1.6658187e-05\n",
      "[46, 19, 19, 24, 24, 24, 24, 28]\n",
      "[7, 4, 4, 6, 2, 4, 4, 4]\n",
      "0.999956\n",
      "4.403922e-05\n",
      "[19, 19, 24, 24, 24, 24, 28, 26]\n",
      "[4, 4, 6, 2, 4, 4, 4, 4]\n",
      "0.99990284\n",
      "9.715478e-05\n",
      "[19, 24, 24, 24, 24, 28, 26, 24]\n",
      "[4, 6, 2, 4, 4, 4, 4, 4]\n",
      "0.99999464\n",
      "5.393297e-06\n",
      "[24, 24, 24, 24, 28, 26, 24, 23]\n",
      "[6, 2, 4, 4, 4, 4, 4, 4]\n",
      "0.99999833\n",
      "1.6889162e-06\n",
      "[24, 24, 24, 28, 26, 24, 23, 21]\n",
      "[2, 4, 4, 4, 4, 4, 4, 7]\n",
      "0.99998975\n",
      "1.01946125e-05\n",
      "[24, 24, 28, 26, 24, 23, 21, 21]\n",
      "[4, 4, 4, 4, 4, 4, 7, 7]\n",
      "0.99965215\n",
      "0.00034783574\n",
      "[24, 28, 26, 24, 23, 21, 21, 21]\n",
      "[4, 4, 4, 4, 4, 7, 7, 7]\n",
      "0.015874075\n",
      "0.984126\n",
      "[28, 26, 24, 23, 21, 21, 21, 29]\n",
      "[4, 4, 4, 4, 7, 7, 7, 7]\n",
      "0.9999882\n",
      "1.1829627e-05\n",
      "[26, 24, 23, 21, 21, 21, 29, 23]\n",
      "[4, 4, 4, 7, 7, 7, 7, 10]\n",
      "0.9999833\n",
      "1.6647658e-05\n",
      "[24, 23, 21, 21, 21, 29, 23, 46]\n",
      "[4, 4, 7, 7, 7, 7, 10, 7]\n",
      "0.999985\n",
      "1.50639735e-05\n",
      "[23, 21, 21, 21, 29, 23, 46, 31]\n",
      "[4, 7, 7, 7, 7, 10, 7, 7]\n",
      "0.07152386\n",
      "0.9284761\n",
      "[21, 21, 21, 29, 23, 46, 31, 24]\n",
      "[7, 7, 7, 7, 10, 7, 7, 10]\n",
      "0.999985\n",
      "1.5076779e-05\n",
      "[21, 21, 29, 23, 46, 31, 24, 46]\n",
      "[7, 7, 7, 10, 7, 7, 10, 7]\n",
      "0.99992716\n",
      "7.281454e-05\n",
      "[21, 29, 23, 46, 31, 24, 46, 19]\n",
      "[7, 7, 10, 7, 7, 10, 7, 7]\n",
      "0.99813217\n",
      "0.0018677979\n",
      "[29, 23, 46, 31, 24, 46, 19, 24]\n",
      "[7, 10, 7, 7, 10, 7, 7, 10]\n",
      "0.9999647\n",
      "3.5270612e-05\n",
      "[23, 46, 31, 24, 46, 19, 24, 24]\n",
      "[10, 7, 7, 10, 7, 7, 10, 7]\n",
      "0.9997886\n",
      "0.00021142361\n",
      "[46, 31, 24, 46, 19, 24, 24, 24]\n",
      "[7, 7, 10, 7, 7, 10, 7, 7]\n",
      "0.99988747\n",
      "0.00011256862\n",
      "[31, 24, 46, 19, 24, 24, 24, 24]\n",
      "[7, 10, 7, 7, 10, 7, 7, 10]\n",
      "0.9969919\n",
      "0.003008133\n",
      "[24, 46, 19, 24, 24, 24, 24, 28]\n",
      "[10, 7, 7, 10, 7, 7, 10, 10]\n",
      "0.9999323\n",
      "6.765208e-05\n",
      "[46, 19, 24, 24, 24, 24, 28, 26]\n",
      "[7, 7, 10, 7, 7, 10, 10, 10]\n",
      "0.9999678\n",
      "3.2201668e-05\n",
      "[19, 24, 24, 24, 24, 28, 26, 24]\n",
      "[7, 10, 7, 7, 10, 10, 10, 10]\n",
      "0.99988234\n",
      "0.000117593896\n",
      "[24, 24, 24, 24, 28, 26, 24, 21]\n",
      "[10, 7, 7, 10, 10, 10, 10, 12]\n",
      "0.99998415\n",
      "1.5877973e-05\n",
      "[24, 24, 24, 28, 26, 24, 21, 21]\n",
      "[7, 7, 10, 10, 10, 10, 12, 7]\n",
      "0.9999701\n",
      "2.9902327e-05\n",
      "[24, 24, 28, 26, 24, 21, 21, 21]\n",
      "[7, 10, 10, 10, 10, 12, 7, 10]\n",
      "0.00062020204\n",
      "0.99937975\n",
      "[24, 28, 26, 24, 21, 21, 21, 26]\n",
      "[10, 10, 10, 10, 12, 7, 10, 13]\n",
      "0.9999734\n",
      "2.6624852e-05\n",
      "[28, 26, 24, 21, 21, 21, 26, 24]\n",
      "[10, 10, 10, 12, 7, 10, 13, 10]\n",
      "0.9996069\n",
      "0.0003930806\n",
      "[26, 24, 21, 21, 21, 26, 24, 23]\n",
      "[10, 10, 12, 7, 10, 13, 10, 12]\n",
      "0.999967\n",
      "3.297e-05\n",
      "[24, 21, 21, 21, 26, 24, 23, 23]\n",
      "[10, 12, 7, 10, 13, 10, 12, 7]\n",
      "0.9993056\n",
      "0.00069433125\n",
      "[21, 21, 21, 26, 24, 23, 23, 23]\n",
      "[12, 7, 10, 13, 10, 12, 7, 10]\n",
      "0.99922\n",
      "0.0007799173\n",
      "[21, 21, 26, 24, 23, 23, 23, 23]\n",
      "[7, 10, 13, 10, 12, 7, 10, 10]\n",
      "0.99998534\n",
      "1.46394095e-05\n",
      "[21, 26, 24, 23, 23, 23, 23, 21]\n",
      "[10, 13, 10, 12, 7, 10, 10, 10]\n",
      "0.9999658\n",
      "3.424396e-05\n",
      "[26, 24, 23, 23, 23, 23, 21, 23]\n",
      "[13, 10, 12, 7, 10, 10, 10, 10]\n",
      "8.691613e-05\n",
      "0.9999131\n"
     ]
    }
   ],
   "source": [
    "for note_index in range(max_extra_notes):\n",
    "\n",
    "    prediction_input = [\n",
    "        np.array([notes_input_sequence])\n",
    "        , np.array([durations_input_sequence])\n",
    "       ]\n",
    "\n",
    "    phrases_prediction = model.predict(prediction_input, verbose=0)\n",
    "    print(notes_input_sequence)\n",
    "    print(durations_input_sequence)\n",
    "    print(phrases_prediction[0][0])\n",
    "    print(phrases_prediction[0][1])\n",
    "    \n",
    "    phrases_output.append(0 if phrases_prediction[0][0] >= phrases_prediction[0][1] else 1)\n",
    "\n",
    "    notes_input_sequence.append(notes_input[note_index])\n",
    "    durations_input_sequence.append(durations_input[note_index])\n",
    "    \n",
    "    if len(notes_input_sequence) > seq_len:\n",
    "        notes_input_sequence = notes_input_sequence[1:]\n",
    "        durations_input_sequence = durations_input_sequence[1:]"
   ]
  },
  {
   "cell_type": "code",
   "execution_count": 28,
   "metadata": {},
   "outputs": [
    {
     "name": "stdout",
     "output_type": "stream",
     "text": [
      "[0, 0, 0, 0, 0, 0, 0, 0, 0, 0, 0, 0, 0, 0, 0, 1, 0, 0, 0, 0, 0, 0, 0, 0, 0, 0, 0, 0, 0, 0, 1, 0, 0, 0, 1, 0, 0, 0, 0, 0, 0, 0, 0, 0, 0, 0, 0, 1, 0, 0, 0, 0, 0, 0, 0, 1]\n"
     ]
    }
   ],
   "source": [
    "print(phrases_output)"
   ]
  },
  {
   "cell_type": "code",
   "execution_count": 29,
   "metadata": {},
   "outputs": [
    {
     "name": "stdout",
     "output_type": "stream",
     "text": [
      "[0, 0, 0, 0, 0, 0, 0, 0, 0, 0, 0, 0, 0, 0, 0, 1, 0, 0, 0, 0, 0, 0, 0, 0, 0, 0, 0, 0, 0, 0, 0, 0, 0, 0, 1, 0, 0, 0, 0, 0, 0, 0, 0, 0, 0, 0, 1, 0, 0, 0, 0, 0, 0, 0, 0, 1]\n"
     ]
    }
   ],
   "source": [
    "print(phrases_input) # should be"
   ]
  },
  {
   "cell_type": "code",
   "execution_count": 30,
   "metadata": {},
   "outputs": [],
   "source": [
    "for i in range(len(notes_input)):\n",
    "    if phrases_output[i] == 1:\n",
    "        k = i+1\n",
    "        while k < len(notes_input) and k > 1:\n",
    "            phrases_input[k-1] = 0\n",
    "            phrases_input[k] = 1\n",
    "            if notes_input[k] != 128:\n",
    "                break"
   ]
  },
  {
   "cell_type": "code",
   "execution_count": 31,
   "metadata": {},
   "outputs": [
    {
     "name": "stdout",
     "output_type": "stream",
     "text": [
      "[0, 0, 0, 0, 0, 0, 0, 0, 0, 0, 0, 0, 0, 0, 0, 1, 0, 0, 0, 0, 0, 0, 0, 0, 0, 0, 0, 0, 0, 0, 1, 0, 0, 0, 1, 0, 0, 0, 0, 0, 0, 0, 0, 0, 0, 0, 0, 1, 0, 0, 0, 0, 0, 0, 0, 1]\n"
     ]
    }
   ],
   "source": [
    "print(phrases_output)"
   ]
  }
 ],
 "metadata": {
  "kernelspec": {
   "display_name": "tf",
   "language": "python",
   "name": "python3"
  },
  "language_info": {
   "codemirror_mode": {
    "name": "ipython",
    "version": 3
   },
   "file_extension": ".py",
   "mimetype": "text/x-python",
   "name": "python",
   "nbconvert_exporter": "python",
   "pygments_lexer": "ipython3",
   "version": "3.11.3"
  },
  "orig_nbformat": 4
 },
 "nbformat": 4,
 "nbformat_minor": 2
}
