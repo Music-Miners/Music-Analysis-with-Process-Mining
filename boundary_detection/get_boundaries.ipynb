{
 "cells": [
  {
   "cell_type": "code",
   "execution_count": 1,
   "metadata": {},
   "outputs": [
    {
     "name": "stderr",
     "output_type": "stream",
     "text": [
      "2023-05-08 15:01:45.133857: I tensorflow/core/platform/cpu_feature_guard.cc:182] This TensorFlow binary is optimized to use available CPU instructions in performance-critical operations.\n",
      "To enable the following instructions: AVX2 FMA, in other operations, rebuild TensorFlow with the appropriate compiler flags.\n",
      "2023-05-08 15:01:48.950437: W tensorflow/compiler/tf2tensorrt/utils/py_utils.cc:38] TF-TRT Warning: Could not find TensorRT\n"
     ]
    }
   ],
   "source": [
    "import pickle as pkl\n",
    "import time\n",
    "import os\n",
    "import numpy as np\n",
    "import sys\n",
    "from music21 import instrument, note, stream, chord, duration\n",
    "from RNNmodel import create_network\n",
    "import matplotlib.pyplot as plt"
   ]
  },
  {
   "cell_type": "code",
   "execution_count": 2,
   "metadata": {},
   "outputs": [],
   "source": [
    "with open(\"dictionary.pkl\", \"rb\") as input_file:\n",
    "    dictionary = pkl.load(input_file)\n",
    "\n",
    "\n",
    "durations_to_int = dictionary[\"durations_to_int\"]\n",
    "int_to_duration = dictionary[\"int_to_duration\"]\n",
    "notes_to_int = dictionary[\"notes_to_int\"]\n",
    "int_to_notes = dictionary[\"int_to_notes\"]\n",
    "phrases_to_int = dictionary[\"phrases_to_int\"]\n",
    "int_to_phrases = dictionary[\"int_to_phrases\"]\n",
    "\n",
    "n_notes = len(notes_to_int)\n",
    "n_durations = len(durations_to_int)\n",
    "n_phrases = len(phrases_to_int)"
   ]
  },
  {
   "cell_type": "code",
   "execution_count": 3,
   "metadata": {},
   "outputs": [
    {
     "name": "stderr",
     "output_type": "stream",
     "text": [
      "2023-05-08 15:01:52.793320: I tensorflow/compiler/xla/stream_executor/cuda/cuda_gpu_executor.cc:982] could not open file to read NUMA node: /sys/bus/pci/devices/0000:01:00.0/numa_node\n",
      "Your kernel may have been built without NUMA support.\n",
      "2023-05-08 15:01:53.522289: I tensorflow/compiler/xla/stream_executor/cuda/cuda_gpu_executor.cc:982] could not open file to read NUMA node: /sys/bus/pci/devices/0000:01:00.0/numa_node\n",
      "Your kernel may have been built without NUMA support.\n",
      "2023-05-08 15:01:53.522464: I tensorflow/compiler/xla/stream_executor/cuda/cuda_gpu_executor.cc:982] could not open file to read NUMA node: /sys/bus/pci/devices/0000:01:00.0/numa_node\n",
      "Your kernel may have been built without NUMA support.\n",
      "2023-05-08 15:01:53.534253: I tensorflow/compiler/xla/stream_executor/cuda/cuda_gpu_executor.cc:982] could not open file to read NUMA node: /sys/bus/pci/devices/0000:01:00.0/numa_node\n",
      "Your kernel may have been built without NUMA support.\n",
      "2023-05-08 15:01:53.534338: I tensorflow/compiler/xla/stream_executor/cuda/cuda_gpu_executor.cc:982] could not open file to read NUMA node: /sys/bus/pci/devices/0000:01:00.0/numa_node\n",
      "Your kernel may have been built without NUMA support.\n",
      "2023-05-08 15:01:53.534374: I tensorflow/compiler/xla/stream_executor/cuda/cuda_gpu_executor.cc:982] could not open file to read NUMA node: /sys/bus/pci/devices/0000:01:00.0/numa_node\n",
      "Your kernel may have been built without NUMA support.\n",
      "2023-05-08 15:02:01.062152: I tensorflow/compiler/xla/stream_executor/cuda/cuda_gpu_executor.cc:982] could not open file to read NUMA node: /sys/bus/pci/devices/0000:01:00.0/numa_node\n",
      "Your kernel may have been built without NUMA support.\n",
      "2023-05-08 15:02:01.064142: I tensorflow/compiler/xla/stream_executor/cuda/cuda_gpu_executor.cc:982] could not open file to read NUMA node: /sys/bus/pci/devices/0000:01:00.0/numa_node\n",
      "Your kernel may have been built without NUMA support.\n",
      "2023-05-08 15:02:01.064255: I tensorflow/core/common_runtime/gpu/gpu_device.cc:1722] Could not identify NUMA node of platform GPU id 0, defaulting to 0.  Your kernel may not have been built with NUMA support.\n",
      "2023-05-08 15:02:01.064589: I tensorflow/compiler/xla/stream_executor/cuda/cuda_gpu_executor.cc:982] could not open file to read NUMA node: /sys/bus/pci/devices/0000:01:00.0/numa_node\n",
      "Your kernel may have been built without NUMA support.\n",
      "2023-05-08 15:02:01.065753: I tensorflow/core/common_runtime/gpu/gpu_device.cc:1635] Created device /job:localhost/replica:0/task:0/device:GPU:0 with 3383 MB memory:  -> device: 0, name: NVIDIA GeForce RTX 3060 Laptop GPU, pci bus id: 0000:01:00.0, compute capability: 8.6\n",
      "2023-05-08 15:02:02.282111: I tensorflow/core/common_runtime/executor.cc:1197] [/device:CPU:0] (DEBUG INFO) Executor start aborting (this does not indicate an error and you can ignore this message): INVALID_ARGUMENT: You must feed a value for placeholder tensor 'gradients/split_2_grad/concat/split_2/split_dim' with dtype int32\n",
      "\t [[{{node gradients/split_2_grad/concat/split_2/split_dim}}]]\n",
      "2023-05-08 15:02:02.288127: I tensorflow/core/common_runtime/executor.cc:1197] [/device:CPU:0] (DEBUG INFO) Executor start aborting (this does not indicate an error and you can ignore this message): INVALID_ARGUMENT: You must feed a value for placeholder tensor 'gradients/split_grad/concat/split/split_dim' with dtype int32\n",
      "\t [[{{node gradients/split_grad/concat/split/split_dim}}]]\n",
      "2023-05-08 15:02:02.291997: I tensorflow/core/common_runtime/executor.cc:1197] [/device:CPU:0] (DEBUG INFO) Executor start aborting (this does not indicate an error and you can ignore this message): INVALID_ARGUMENT: You must feed a value for placeholder tensor 'gradients/split_1_grad/concat/split_1/split_dim' with dtype int32\n",
      "\t [[{{node gradients/split_1_grad/concat/split_1/split_dim}}]]\n",
      "2023-05-08 15:02:02.724405: I tensorflow/core/common_runtime/executor.cc:1197] [/device:CPU:0] (DEBUG INFO) Executor start aborting (this does not indicate an error and you can ignore this message): INVALID_ARGUMENT: You must feed a value for placeholder tensor 'gradients/split_2_grad/concat/split_2/split_dim' with dtype int32\n",
      "\t [[{{node gradients/split_2_grad/concat/split_2/split_dim}}]]\n",
      "2023-05-08 15:02:02.730917: I tensorflow/core/common_runtime/executor.cc:1197] [/device:CPU:0] (DEBUG INFO) Executor start aborting (this does not indicate an error and you can ignore this message): INVALID_ARGUMENT: You must feed a value for placeholder tensor 'gradients/split_grad/concat/split/split_dim' with dtype int32\n",
      "\t [[{{node gradients/split_grad/concat/split/split_dim}}]]\n",
      "2023-05-08 15:02:02.733411: I tensorflow/core/common_runtime/executor.cc:1197] [/device:CPU:0] (DEBUG INFO) Executor start aborting (this does not indicate an error and you can ignore this message): INVALID_ARGUMENT: You must feed a value for placeholder tensor 'gradients/split_1_grad/concat/split_1/split_dim' with dtype int32\n",
      "\t [[{{node gradients/split_1_grad/concat/split_1/split_dim}}]]\n",
      "/root/miniconda3/envs/tf/lib/python3.11/site-packages/keras/optimizers/legacy/rmsprop.py:143: UserWarning: The `lr` argument is deprecated, use `learning_rate` instead.\n",
      "  super().__init__(name, **kwargs)\n"
     ]
    },
    {
     "name": "stdout",
     "output_type": "stream",
     "text": [
      "Model: \"model\"\n",
      "__________________________________________________________________________________________________\n",
      " Layer (type)                   Output Shape         Param #     Connected to                     \n",
      "==================================================================================================\n",
      " input_1 (InputLayer)           [(None, None)]       0           []                               \n",
      "                                                                                                  \n",
      " input_2 (InputLayer)           [(None, None)]       0           []                               \n",
      "                                                                                                  \n",
      " embedding (Embedding)          (None, None, 100)    4800        ['input_1[0][0]']                \n",
      "                                                                                                  \n",
      " embedding_1 (Embedding)        (None, None, 100)    1900        ['input_2[0][0]']                \n",
      "                                                                                                  \n",
      " concatenate (Concatenate)      (None, None, 200)    0           ['embedding[0][0]',              \n",
      "                                                                  'embedding_1[0][0]']            \n",
      "                                                                                                  \n",
      " lstm (LSTM)                    (None, None, 256)    467968      ['concatenate[0][0]']            \n",
      "                                                                                                  \n",
      " lstm_1 (LSTM)                  (None, None, 256)    525312      ['lstm[0][0]']                   \n",
      "                                                                                                  \n",
      " dense (Dense)                  (None, None, 1)      257         ['lstm_1[0][0]']                 \n",
      "                                                                                                  \n",
      " reshape (Reshape)              (None, None)         0           ['dense[0][0]']                  \n",
      "                                                                                                  \n",
      " activation (Activation)        (None, None)         0           ['reshape[0][0]']                \n",
      "                                                                                                  \n",
      " repeat_vector (RepeatVector)   (None, 256, None)    0           ['activation[0][0]']             \n",
      "                                                                                                  \n",
      " permute (Permute)              (None, None, 256)    0           ['repeat_vector[0][0]']          \n",
      "                                                                                                  \n",
      " multiply (Multiply)            (None, None, 256)    0           ['lstm_1[0][0]',                 \n",
      "                                                                  'permute[0][0]']                \n",
      "                                                                                                  \n",
      " lambda (Lambda)                (None, 256)          0           ['multiply[0][0]']               \n",
      "                                                                                                  \n",
      " phrase (Dense)                 (None, 2)            514         ['lambda[0][0]']                 \n",
      "                                                                                                  \n",
      "==================================================================================================\n",
      "Total params: 1,000,751\n",
      "Trainable params: 1,000,751\n",
      "Non-trainable params: 0\n",
      "__________________________________________________________________________________________________\n"
     ]
    }
   ],
   "source": [
    "weights_folder = 'weights'\n",
    "weights_file = 'weights.h5'\n",
    "embed_size = 100\n",
    "rnn_units = 256\n",
    "use_attention = True\n",
    "\n",
    "model, att_model = create_network(n_notes, n_durations, n_phrases, embed_size, rnn_units, use_attention)\n",
    "\n",
    "# Load the weights to each node\n",
    "weight_source = os.path.join(weights_folder,weights_file)\n",
    "model.load_weights(weight_source)\n",
    "model.summary()"
   ]
  },
  {
   "cell_type": "code",
   "execution_count": 4,
   "metadata": {},
   "outputs": [],
   "source": [
    "import pickle\n",
    "piece = None\n",
    "with open('../data/data_2/data_germany_1.pkl', 'rb') as handle:\n",
    "    piece = pickle.load(handle)"
   ]
  },
  {
   "cell_type": "code",
   "execution_count": 5,
   "metadata": {},
   "outputs": [
    {
     "name": "stdout",
     "output_type": "stream",
     "text": [
      "[16, 21, 21, 21, 21, 21, 23, 25, 25, 25, 28, 23, 46, 28, 21, 46, 16, 21, 21, 21, 21, 23, 25, 25, 25, 28, 23, 46, 28, 21, 46, 28, 33, 32, 30, 28, 26, 25, 46, 25, 25, 46, 30, 28, 26, 46, 25, 26, 46, 30, 28, 25, 46, 24, 25, 46, 28, 33, 32, 30, 28, 26, 25, 46, 24, 25, 46, 28, 28, 30, 30, 30, 32, 30, 32, 33, 33, 46]\n"
     ]
    }
   ],
   "source": [
    "notes_input = [ notes_to_int[note] for note in piece[0][0] ]\n",
    "print(notes_input)"
   ]
  },
  {
   "cell_type": "code",
   "execution_count": 6,
   "metadata": {},
   "outputs": [
    {
     "name": "stdout",
     "output_type": "stream",
     "text": [
      "[7, 7, 7, 6, 2, 4, 4, 7, 7, 7, 7, 10, 7, 7, 10, 7, 7, 7, 7, 7, 4, 4, 7, 7, 7, 7, 10, 7, 7, 10, 7, 4, 4, 13, 10, 13, 10, 10, 7, 7, 10, 10, 10, 10, 10, 7, 7, 10, 10, 10, 10, 10, 7, 7, 10, 10, 10, 10, 13, 10, 13, 10, 10, 7, 7, 10, 1, 7, 7, 12, 7, 10, 10, 10, 10, 14, 10, 10]\n"
     ]
    }
   ],
   "source": [
    "durations_input = [ durations_to_int[duration] for duration in piece[0][1] ]\n",
    "print(durations_input)"
   ]
  },
  {
   "cell_type": "code",
   "execution_count": 7,
   "metadata": {},
   "outputs": [
    {
     "name": "stdout",
     "output_type": "stream",
     "text": [
      "[0, 0, 0, 0, 0, 0, 0, 0, 0, 0, 0, 0, 0, 0, 0, 1, 0, 0, 0, 0, 0, 0, 0, 0, 0, 0, 0, 0, 0, 0, 1, 0, 0, 0, 0, 0, 0, 0, 0, 0, 0, 1, 0, 0, 0, 0, 0, 0, 0, 0, 0, 0, 0, 0, 0, 1, 0, 0, 0, 0, 0, 0, 0, 0, 0, 0, 0, 0, 0, 0, 0, 0, 0, 0, 0, 0, 0, 1]\n"
     ]
    }
   ],
   "source": [
    "phrases_input = piece[0][2]\n",
    "print(phrases_input)"
   ]
  },
  {
   "cell_type": "code",
   "execution_count": 8,
   "metadata": {},
   "outputs": [],
   "source": [
    "max_extra_notes = len(notes_input) - 1\n",
    "seq_len = 8\n",
    "phrases_output = []\n",
    "phrases_output.append(0) # after the first note (that is already in the initial sequence)\n",
    "\n",
    "notes_input_sequence = [notes_input[0]] # the first note element of the sequence\n",
    "durations_input_sequence = [durations_input[0]] # the first duration element of the sequence\n",
    "\n",
    "if seq_len is not None:\n",
    "    notes_input_sequence = [notes_to_int[129]] * (seq_len - len(notes_input_sequence)) + notes_input_sequence # the sequence length must be always equal seq_len, therefore we fill the vector with values 129 (the 'START' token) at the beginning \n",
    "    durations_input_sequence = [0] * (seq_len - len(durations_input_sequence)) + durations_input_sequence # the same for durations"
   ]
  },
  {
   "cell_type": "code",
   "execution_count": 9,
   "metadata": {},
   "outputs": [
    {
     "name": "stdout",
     "output_type": "stream",
     "text": [
      "[47, 47, 47, 47, 47, 47, 47, 16]\n"
     ]
    }
   ],
   "source": [
    "print(notes_input_sequence)"
   ]
  },
  {
   "cell_type": "code",
   "execution_count": 10,
   "metadata": {},
   "outputs": [
    {
     "name": "stdout",
     "output_type": "stream",
     "text": [
      "[0, 0, 0, 0, 0, 0, 0, 7]\n"
     ]
    }
   ],
   "source": [
    "print(durations_input_sequence)"
   ]
  },
  {
   "cell_type": "code",
   "execution_count": 11,
   "metadata": {},
   "outputs": [
    {
     "name": "stderr",
     "output_type": "stream",
     "text": [
      "2023-05-08 15:02:05.589657: I tensorflow/core/common_runtime/executor.cc:1197] [/device:CPU:0] (DEBUG INFO) Executor start aborting (this does not indicate an error and you can ignore this message): INVALID_ARGUMENT: You must feed a value for placeholder tensor 'gradients/split_2_grad/concat/split_2/split_dim' with dtype int32\n",
      "\t [[{{node gradients/split_2_grad/concat/split_2/split_dim}}]]\n",
      "2023-05-08 15:02:05.591582: I tensorflow/core/common_runtime/executor.cc:1197] [/device:CPU:0] (DEBUG INFO) Executor start aborting (this does not indicate an error and you can ignore this message): INVALID_ARGUMENT: You must feed a value for placeholder tensor 'gradients/split_grad/concat/split/split_dim' with dtype int32\n",
      "\t [[{{node gradients/split_grad/concat/split/split_dim}}]]\n",
      "2023-05-08 15:02:05.597550: I tensorflow/core/common_runtime/executor.cc:1197] [/device:CPU:0] (DEBUG INFO) Executor start aborting (this does not indicate an error and you can ignore this message): INVALID_ARGUMENT: You must feed a value for placeholder tensor 'gradients/split_1_grad/concat/split_1/split_dim' with dtype int32\n",
      "\t [[{{node gradients/split_1_grad/concat/split_1/split_dim}}]]\n",
      "2023-05-08 15:02:06.195377: I tensorflow/core/common_runtime/executor.cc:1197] [/device:CPU:0] (DEBUG INFO) Executor start aborting (this does not indicate an error and you can ignore this message): INVALID_ARGUMENT: You must feed a value for placeholder tensor 'gradients/split_2_grad/concat/split_2/split_dim' with dtype int32\n",
      "\t [[{{node gradients/split_2_grad/concat/split_2/split_dim}}]]\n",
      "2023-05-08 15:02:06.206688: I tensorflow/core/common_runtime/executor.cc:1197] [/device:CPU:0] (DEBUG INFO) Executor start aborting (this does not indicate an error and you can ignore this message): INVALID_ARGUMENT: You must feed a value for placeholder tensor 'gradients/split_grad/concat/split/split_dim' with dtype int32\n",
      "\t [[{{node gradients/split_grad/concat/split/split_dim}}]]\n",
      "2023-05-08 15:02:06.210285: I tensorflow/core/common_runtime/executor.cc:1197] [/device:CPU:0] (DEBUG INFO) Executor start aborting (this does not indicate an error and you can ignore this message): INVALID_ARGUMENT: You must feed a value for placeholder tensor 'gradients/split_1_grad/concat/split_1/split_dim' with dtype int32\n",
      "\t [[{{node gradients/split_1_grad/concat/split_1/split_dim}}]]\n",
      "2023-05-08 15:02:24.580872: I tensorflow/compiler/xla/stream_executor/cuda/cuda_dnn.cc:424] Loaded cuDNN version 8600\n",
      "2023-05-08 15:02:32.010351: I tensorflow/compiler/xla/stream_executor/cuda/cuda_blas.cc:637] TensorFloat-32 will be used for the matrix multiplication. This will only be logged once.\n"
     ]
    },
    {
     "name": "stdout",
     "output_type": "stream",
     "text": [
      "[47, 47, 47, 47, 47, 47, 47, 16]\n",
      "[0, 0, 0, 0, 0, 0, 0, 7]\n",
      "0.99459344\n",
      "0.0054065175\n",
      "[47, 47, 47, 47, 47, 47, 16, 16]\n",
      "[0, 0, 0, 0, 0, 0, 7, 7]\n",
      "0.9681948\n",
      "0.031805277\n",
      "[47, 47, 47, 47, 47, 16, 16, 21]\n",
      "[0, 0, 0, 0, 0, 7, 7, 7]\n",
      "0.9995584\n",
      "0.00044157315\n",
      "[47, 47, 47, 47, 16, 16, 21, 21]\n",
      "[0, 0, 0, 0, 7, 7, 7, 7]\n",
      "0.99988294\n",
      "0.00011707219\n",
      "[47, 47, 47, 16, 16, 21, 21, 21]\n",
      "[0, 0, 0, 7, 7, 7, 7, 6]\n",
      "0.9995158\n",
      "0.00048428145\n",
      "[47, 47, 16, 16, 21, 21, 21, 21]\n",
      "[0, 0, 7, 7, 7, 7, 6, 2]\n",
      "0.99991393\n",
      "8.607655e-05\n",
      "[47, 16, 16, 21, 21, 21, 21, 21]\n",
      "[0, 7, 7, 7, 7, 6, 2, 4]\n",
      "0.999949\n",
      "5.0970306e-05\n",
      "[16, 16, 21, 21, 21, 21, 21, 23]\n",
      "[7, 7, 7, 7, 6, 2, 4, 4]\n",
      "0.99997973\n",
      "2.022473e-05\n",
      "[16, 21, 21, 21, 21, 21, 23, 25]\n",
      "[7, 7, 7, 6, 2, 4, 4, 7]\n",
      "0.99998\n",
      "2.0016922e-05\n",
      "[21, 21, 21, 21, 21, 23, 25, 25]\n",
      "[7, 7, 6, 2, 4, 4, 7, 7]\n",
      "0.9997056\n",
      "0.00029432113\n",
      "[21, 21, 21, 21, 23, 25, 25, 25]\n",
      "[7, 6, 2, 4, 4, 7, 7, 7]\n",
      "0.9999858\n",
      "1.41357405e-05\n",
      "[21, 21, 21, 23, 25, 25, 25, 28]\n",
      "[6, 2, 4, 4, 7, 7, 7, 7]\n",
      "0.999851\n",
      "0.00014899184\n",
      "[21, 21, 23, 25, 25, 25, 28, 23]\n",
      "[2, 4, 4, 7, 7, 7, 7, 10]\n",
      "0.98115796\n",
      "0.018842112\n",
      "[21, 23, 25, 25, 25, 28, 23, 46]\n",
      "[4, 4, 7, 7, 7, 7, 10, 7]\n",
      "0.99996495\n",
      "3.4993707e-05\n",
      "[23, 25, 25, 25, 28, 23, 46, 28]\n",
      "[4, 7, 7, 7, 7, 10, 7, 7]\n",
      "0.004352171\n",
      "0.99564785\n",
      "[25, 25, 25, 28, 23, 46, 28, 21]\n",
      "[7, 7, 7, 7, 10, 7, 7, 10]\n",
      "0.9999453\n",
      "5.4749955e-05\n",
      "[25, 25, 28, 23, 46, 28, 21, 46]\n",
      "[7, 7, 7, 10, 7, 7, 10, 7]\n",
      "0.9998779\n",
      "0.000122010206\n",
      "[25, 28, 23, 46, 28, 21, 46, 16]\n",
      "[7, 7, 10, 7, 7, 10, 7, 7]\n",
      "0.9996137\n",
      "0.00038634325\n",
      "[28, 23, 46, 28, 21, 46, 16, 21]\n",
      "[7, 10, 7, 7, 10, 7, 7, 7]\n",
      "0.9992987\n",
      "0.0007012342\n",
      "[23, 46, 28, 21, 46, 16, 21, 21]\n",
      "[10, 7, 7, 10, 7, 7, 7, 7]\n",
      "0.9997484\n",
      "0.00025157363\n",
      "[46, 28, 21, 46, 16, 21, 21, 21]\n",
      "[7, 7, 10, 7, 7, 7, 7, 7]\n",
      "0.9999491\n",
      "5.0846993e-05\n",
      "[28, 21, 46, 16, 21, 21, 21, 21]\n",
      "[7, 10, 7, 7, 7, 7, 7, 4]\n",
      "0.99985635\n",
      "0.0001436263\n",
      "[21, 46, 16, 21, 21, 21, 21, 23]\n",
      "[10, 7, 7, 7, 7, 7, 4, 4]\n",
      "0.9999249\n",
      "7.504862e-05\n",
      "[46, 16, 21, 21, 21, 21, 23, 25]\n",
      "[7, 7, 7, 7, 7, 4, 4, 7]\n",
      "0.99734396\n",
      "0.0026560312\n",
      "[16, 21, 21, 21, 21, 23, 25, 25]\n",
      "[7, 7, 7, 7, 4, 4, 7, 7]\n",
      "0.9778236\n",
      "0.022176389\n",
      "[21, 21, 21, 21, 23, 25, 25, 25]\n",
      "[7, 7, 7, 4, 4, 7, 7, 7]\n",
      "0.9993781\n",
      "0.00062186085\n",
      "[21, 21, 21, 23, 25, 25, 25, 28]\n",
      "[7, 7, 4, 4, 7, 7, 7, 7]\n",
      "0.99867356\n",
      "0.001326422\n",
      "[21, 21, 23, 25, 25, 25, 28, 23]\n",
      "[7, 4, 4, 7, 7, 7, 7, 10]\n",
      "0.9428698\n",
      "0.057130158\n",
      "[21, 23, 25, 25, 25, 28, 23, 46]\n",
      "[4, 4, 7, 7, 7, 7, 10, 7]\n",
      "0.99996495\n",
      "3.4993707e-05\n",
      "[23, 25, 25, 25, 28, 23, 46, 28]\n",
      "[4, 7, 7, 7, 7, 10, 7, 7]\n",
      "0.004352171\n",
      "0.99564785\n",
      "[25, 25, 25, 28, 23, 46, 28, 21]\n",
      "[7, 7, 7, 7, 10, 7, 7, 10]\n",
      "0.9999453\n",
      "5.4749955e-05\n",
      "[25, 25, 28, 23, 46, 28, 21, 46]\n",
      "[7, 7, 7, 10, 7, 7, 10, 7]\n",
      "0.9998779\n",
      "0.000122010206\n",
      "[25, 28, 23, 46, 28, 21, 46, 28]\n",
      "[7, 7, 10, 7, 7, 10, 7, 4]\n",
      "0.9998147\n",
      "0.00018528933\n",
      "[28, 23, 46, 28, 21, 46, 28, 33]\n",
      "[7, 10, 7, 7, 10, 7, 4, 4]\n",
      "0.90883213\n",
      "0.091167904\n",
      "[23, 46, 28, 21, 46, 28, 33, 32]\n",
      "[10, 7, 7, 10, 7, 4, 4, 13]\n",
      "0.994162\n",
      "0.0058379704\n",
      "[46, 28, 21, 46, 28, 33, 32, 30]\n",
      "[7, 7, 10, 7, 4, 4, 13, 10]\n",
      "0.99997365\n",
      "2.6316351e-05\n",
      "[28, 21, 46, 28, 33, 32, 30, 28]\n",
      "[7, 10, 7, 4, 4, 13, 10, 13]\n",
      "0.99942636\n",
      "0.00057371915\n",
      "[21, 46, 28, 33, 32, 30, 28, 26]\n",
      "[10, 7, 4, 4, 13, 10, 13, 10]\n",
      "0.999826\n",
      "0.00017399415\n",
      "[46, 28, 33, 32, 30, 28, 26, 25]\n",
      "[7, 4, 4, 13, 10, 13, 10, 10]\n",
      "0.9952958\n",
      "0.004704178\n",
      "[28, 33, 32, 30, 28, 26, 25, 46]\n",
      "[4, 4, 13, 10, 13, 10, 10, 7]\n",
      "0.9999546\n",
      "4.5435638e-05\n",
      "[33, 32, 30, 28, 26, 25, 46, 25]\n",
      "[4, 13, 10, 13, 10, 10, 7, 7]\n",
      "0.87451565\n",
      "0.1254843\n",
      "[32, 30, 28, 26, 25, 46, 25, 25]\n",
      "[13, 10, 13, 10, 10, 7, 7, 10]\n",
      "0.9999763\n",
      "2.3731502e-05\n",
      "[30, 28, 26, 25, 46, 25, 25, 46]\n",
      "[10, 13, 10, 10, 7, 7, 10, 10]\n",
      "0.9997534\n",
      "0.00024654012\n",
      "[28, 26, 25, 46, 25, 25, 46, 30]\n",
      "[13, 10, 10, 7, 7, 10, 10, 10]\n",
      "0.9998534\n",
      "0.00014662411\n",
      "[26, 25, 46, 25, 25, 46, 30, 28]\n",
      "[10, 10, 7, 7, 10, 10, 10, 10]\n",
      "0.99985194\n",
      "0.00014805459\n",
      "[25, 46, 25, 25, 46, 30, 28, 26]\n",
      "[10, 7, 7, 10, 10, 10, 10, 10]\n",
      "0.99913055\n",
      "0.0008694673\n",
      "[46, 25, 25, 46, 30, 28, 26, 46]\n",
      "[7, 7, 10, 10, 10, 10, 10, 7]\n",
      "0.9998741\n",
      "0.00012583159\n",
      "[25, 25, 46, 30, 28, 26, 46, 25]\n",
      "[7, 10, 10, 10, 10, 10, 7, 7]\n",
      "0.99904174\n",
      "0.0009582544\n",
      "[25, 46, 30, 28, 26, 46, 25, 26]\n",
      "[10, 10, 10, 10, 10, 7, 7, 10]\n",
      "0.9995377\n",
      "0.00046236953\n",
      "[46, 30, 28, 26, 46, 25, 26, 46]\n",
      "[10, 10, 10, 10, 7, 7, 10, 10]\n",
      "0.99981767\n",
      "0.00018229896\n",
      "[30, 28, 26, 46, 25, 26, 46, 30]\n",
      "[10, 10, 10, 7, 7, 10, 10, 10]\n",
      "0.86122066\n",
      "0.13877933\n",
      "[28, 26, 46, 25, 26, 46, 30, 28]\n",
      "[10, 10, 7, 7, 10, 10, 10, 10]\n",
      "0.99954337\n",
      "0.00045659023\n",
      "[26, 46, 25, 26, 46, 30, 28, 25]\n",
      "[10, 7, 7, 10, 10, 10, 10, 10]\n",
      "0.99568766\n",
      "0.004312292\n",
      "[46, 25, 26, 46, 30, 28, 25, 46]\n",
      "[7, 7, 10, 10, 10, 10, 10, 7]\n",
      "0.99978584\n",
      "0.00021414139\n",
      "[25, 26, 46, 30, 28, 25, 46, 24]\n",
      "[7, 10, 10, 10, 10, 10, 7, 7]\n",
      "0.31385663\n",
      "0.6861434\n",
      "[26, 46, 30, 28, 25, 46, 24, 25]\n",
      "[10, 10, 10, 10, 10, 7, 7, 10]\n",
      "0.997556\n",
      "0.0024440507\n",
      "[46, 30, 28, 25, 46, 24, 25, 46]\n",
      "[10, 10, 10, 10, 7, 7, 10, 10]\n",
      "0.999795\n",
      "0.00020496154\n",
      "[30, 28, 25, 46, 24, 25, 46, 28]\n",
      "[10, 10, 10, 7, 7, 10, 10, 10]\n",
      "0.99941933\n",
      "0.0005807343\n",
      "[28, 25, 46, 24, 25, 46, 28, 33]\n",
      "[10, 10, 7, 7, 10, 10, 10, 10]\n",
      "0.9999237\n",
      "7.624376e-05\n",
      "[25, 46, 24, 25, 46, 28, 33, 32]\n",
      "[10, 7, 7, 10, 10, 10, 10, 13]\n",
      "0.99538815\n",
      "0.0046118177\n",
      "[46, 24, 25, 46, 28, 33, 32, 30]\n",
      "[7, 7, 10, 10, 10, 10, 13, 10]\n",
      "0.9998971\n",
      "0.00010285427\n",
      "[24, 25, 46, 28, 33, 32, 30, 28]\n",
      "[7, 10, 10, 10, 10, 13, 10, 13]\n",
      "0.9979919\n",
      "0.002008078\n",
      "[25, 46, 28, 33, 32, 30, 28, 26]\n",
      "[10, 10, 10, 10, 13, 10, 13, 10]\n",
      "0.022099035\n",
      "0.97790104\n",
      "[46, 28, 33, 32, 30, 28, 26, 25]\n",
      "[10, 10, 10, 13, 10, 13, 10, 10]\n",
      "0.9956891\n",
      "0.004310922\n",
      "[28, 33, 32, 30, 28, 26, 25, 46]\n",
      "[10, 10, 13, 10, 13, 10, 10, 7]\n",
      "0.9999683\n",
      "3.1682073e-05\n",
      "[33, 32, 30, 28, 26, 25, 46, 24]\n",
      "[10, 13, 10, 13, 10, 10, 7, 7]\n",
      "0.99995387\n",
      "4.617242e-05\n",
      "[32, 30, 28, 26, 25, 46, 24, 25]\n",
      "[13, 10, 13, 10, 10, 7, 7, 10]\n",
      "0.99997115\n",
      "2.8901792e-05\n",
      "[30, 28, 26, 25, 46, 24, 25, 46]\n",
      "[10, 13, 10, 10, 7, 7, 10, 1]\n",
      "0.99973685\n",
      "0.0002630918\n",
      "[28, 26, 25, 46, 24, 25, 46, 28]\n",
      "[13, 10, 10, 7, 7, 10, 1, 7]\n",
      "0.9998555\n",
      "0.00014446222\n",
      "[26, 25, 46, 24, 25, 46, 28, 28]\n",
      "[10, 10, 7, 7, 10, 1, 7, 7]\n",
      "0.99991417\n",
      "8.579235e-05\n",
      "[25, 46, 24, 25, 46, 28, 28, 30]\n",
      "[10, 7, 7, 10, 1, 7, 7, 12]\n",
      "0.99992263\n",
      "7.736078e-05\n",
      "[46, 24, 25, 46, 28, 28, 30, 30]\n",
      "[7, 7, 10, 1, 7, 7, 12, 7]\n",
      "0.99998987\n",
      "1.0157755e-05\n",
      "[24, 25, 46, 28, 28, 30, 30, 30]\n",
      "[7, 10, 1, 7, 7, 12, 7, 10]\n",
      "0.9978598\n",
      "0.0021402459\n",
      "[25, 46, 28, 28, 30, 30, 30, 32]\n",
      "[10, 1, 7, 7, 12, 7, 10, 10]\n",
      "0.99987316\n",
      "0.00012676445\n",
      "[46, 28, 28, 30, 30, 30, 32, 30]\n",
      "[1, 7, 7, 12, 7, 10, 10, 10]\n",
      "0.9997762\n",
      "0.00022384708\n",
      "[28, 28, 30, 30, 30, 32, 30, 32]\n",
      "[7, 7, 12, 7, 10, 10, 10, 10]\n",
      "0.9998808\n",
      "0.00011923193\n",
      "[28, 30, 30, 30, 32, 30, 32, 33]\n",
      "[7, 12, 7, 10, 10, 10, 10, 14]\n",
      "0.5980041\n",
      "0.40199593\n"
     ]
    }
   ],
   "source": [
    "for note_index in range(max_extra_notes):\n",
    "\n",
    "    prediction_input = [\n",
    "        np.array([notes_input_sequence])\n",
    "        , np.array([durations_input_sequence])\n",
    "       ]\n",
    "\n",
    "    phrases_prediction = model.predict(prediction_input, verbose=0)\n",
    "    print(notes_input_sequence)\n",
    "    print(durations_input_sequence)\n",
    "    print(phrases_prediction[0][0])\n",
    "    print(phrases_prediction[0][1])\n",
    "    \n",
    "    phrases_output.append(0 if phrases_prediction[0][0] >= phrases_prediction[0][1] else 1)\n",
    "\n",
    "    notes_input_sequence.append(notes_input[note_index])\n",
    "    durations_input_sequence.append(durations_input[note_index])\n",
    "    \n",
    "    if len(notes_input_sequence) > seq_len:\n",
    "        notes_input_sequence = notes_input_sequence[1:]\n",
    "        durations_input_sequence = durations_input_sequence[1:]"
   ]
  },
  {
   "cell_type": "code",
   "execution_count": 12,
   "metadata": {},
   "outputs": [
    {
     "name": "stdout",
     "output_type": "stream",
     "text": [
      "[0, 0, 0, 0, 0, 0, 0, 0, 0, 0, 0, 0, 0, 0, 0, 1, 0, 0, 0, 0, 0, 0, 0, 0, 0, 0, 0, 0, 0, 0, 1, 0, 0, 0, 0, 0, 0, 0, 0, 0, 0, 0, 0, 0, 0, 0, 0, 0, 0, 0, 0, 0, 0, 0, 0, 1, 0, 0, 0, 0, 0, 0, 0, 1, 0, 0, 0, 0, 0, 0, 0, 0, 0, 0, 0, 0, 0, 0]\n"
     ]
    }
   ],
   "source": [
    "print(phrases_output)"
   ]
  },
  {
   "cell_type": "code",
   "execution_count": 13,
   "metadata": {},
   "outputs": [
    {
     "name": "stdout",
     "output_type": "stream",
     "text": [
      "[0, 0, 0, 0, 0, 0, 0, 0, 0, 0, 0, 0, 0, 0, 0, 1, 0, 0, 0, 0, 0, 0, 0, 0, 0, 0, 0, 0, 0, 0, 1, 0, 0, 0, 0, 0, 0, 0, 0, 0, 0, 1, 0, 0, 0, 0, 0, 0, 0, 0, 0, 0, 0, 0, 0, 1, 0, 0, 0, 0, 0, 0, 0, 0, 0, 0, 0, 0, 0, 0, 0, 0, 0, 0, 0, 0, 0, 1]\n"
     ]
    }
   ],
   "source": [
    "print(phrases_input) # should be"
   ]
  },
  {
   "cell_type": "code",
   "execution_count": 14,
   "metadata": {},
   "outputs": [],
   "source": [
    "for i in range(len(notes_input)):\n",
    "    if phrases_output[i] == 1:\n",
    "        k = i+1\n",
    "        while k < len(notes_input) and k > 1:\n",
    "            phrases_input[k-1] = 0\n",
    "            phrases_input[k] = 1\n",
    "            if notes_input[k] != 128:\n",
    "                break"
   ]
  },
  {
   "cell_type": "code",
   "execution_count": 15,
   "metadata": {},
   "outputs": [
    {
     "name": "stdout",
     "output_type": "stream",
     "text": [
      "[0, 0, 0, 0, 0, 0, 0, 0, 0, 0, 0, 0, 0, 0, 0, 1, 0, 0, 0, 0, 0, 0, 0, 0, 0, 0, 0, 0, 0, 0, 1, 0, 0, 0, 0, 0, 0, 0, 0, 0, 0, 0, 0, 0, 0, 0, 0, 0, 0, 0, 0, 0, 0, 0, 0, 1, 0, 0, 0, 0, 0, 0, 0, 1, 0, 0, 0, 0, 0, 0, 0, 0, 0, 0, 0, 0, 0, 0]\n"
     ]
    }
   ],
   "source": [
    "print(phrases_output)"
   ]
  }
 ],
 "metadata": {
  "kernelspec": {
   "display_name": "tf",
   "language": "python",
   "name": "python3"
  },
  "language_info": {
   "codemirror_mode": {
    "name": "ipython",
    "version": 3
   },
   "file_extension": ".py",
   "mimetype": "text/x-python",
   "name": "python",
   "nbconvert_exporter": "python",
   "pygments_lexer": "ipython3",
   "version": "3.11.3"
  },
  "orig_nbformat": 4
 },
 "nbformat": 4,
 "nbformat_minor": 2
}
